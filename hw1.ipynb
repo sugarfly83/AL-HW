{
 "cells": [
  {
   "cell_type": "markdown",
   "metadata": {},
   "source": [
    "## algorithm design and anlysis-2025 spring  homework 1 \n",
    "**Deadline**：2025.5.14\n",
    "\n",
    "**name**:唐飞\n",
    "\n",
    "\n",
    "note：\n",
    "---\n",
    "1. 带有\\*的题目，申请免上课的同学，必须完成，其他同学选作；\n",
    "2. 请独立完成，如求助了他人或者大模型，请著明，并且不可省略算法分析部分；\n",
    "4. 如若作答有雷同，全部取消成绩；\n",
    "3. 需要书面作答的题目，可以通过引用图片的形式添加，但是注意上传项目时包含所引用的图片的源文件；\n",
    "4. $log_n$ 默认表示$log_2{n}$;"
   ]
  },
  {
   "cell_type": "markdown",
   "metadata": {},
   "source": [
    "## 问题 1\n",
    "\n",
    "对于下面的每一对表达式(A, B), A是否能表示为B的 $\\Theta, \\Omega ,O$形式. 请注意, 这些关系中的零个、一个或多个可能成立。列出所有正确的。经常发生一些学生会,把指示写错, 所以请把关系写完整, 例如: $A = O(B),  A =\\Theta(B)$, 或$A = \\Omega(B)$。\n",
    "\n",
    "1. $A=n^2-100n, B=n^2$\n",
    "2. $A=logn, B=log_{1.2}n$\n",
    "3. $A=3^{2n}, B=2^{4n}$\n",
    "4. $A=2^{logn}, B=n$\n",
    "5. $A=\\log{\\log}{n},B=10^{10^{100}}$"
   ]
  },
  {
   "cell_type": "markdown",
   "metadata": {},
   "source": [
    "can refer a handwritten picture, pleas upload the picture in /fig/xxx.png\n",
    "answer:\n",
    "![hw1a1](fig/hw1a1.jpg)  "
   ]
  },
  {
   "cell_type": "markdown",
   "metadata": {},
   "source": [
    "## 问题 2：\n",
    "\n",
    "假设有函数 $f$ 和 $g$ 使得 $f(n)$ = $O(g(n))$ 对于下面的每一个陈述, 请判断对错, 如果正确请给出证明, 否则请给出一个反例。\n",
    "\n",
    "1. $\\log{f(n)}$ = $O(\\log(1+g(n)))$\n",
    "2. $3^{f(n)}=O(3^{g(n)})$\n",
    "3. $(f(n))^2=O((g(n))^2)$ "
   ]
  },
  {
   "cell_type": "markdown",
   "metadata": {},
   "source": [
    "you can refer a handwritten picture, pleas upload the picture in /fig/xxx.png\n",
    "answer:\n",
    "![hw1a2](fig/hw1a2.jpg)  "
   ]
  },
  {
   "cell_type": "markdown",
   "metadata": {},
   "source": [
    "## 问题 3\n",
    "\n",
    "根据下列递归公式, 计算下列 $T(n)$ 对应的的渐近上界。要求所求的边界尽可能的紧（tight）, 请写明步骤。\n",
    "\n",
    "1. $T(1)=1; T(n)=T(n/4)+1$ for $n>1$\n",
    "2. $T(1)=1;T(n)=3T(n/3)+n^2$ for $n>1$\n",
    "3. $T(1)=1;T(n)=T(2n/3)+1$ for $n>1$\n",
    "4. $T(1)=1;T(n)=5T(n/4)+n$ for $n>1$\n",
    "5. $T(n)=1 \\ for\\ n \\le 2 ; T(n)=T(\\sqrt{n})+1 \\ for \\ n>2$"
   ]
  },
  {
   "cell_type": "markdown",
   "metadata": {},
   "source": [
    "can refer a handwritten picture, pleas upload the picture in /fig/xxx.png\n",
    "answer:\n",
    "![hw1a3](fig/hw1a3.jpg) "
   ]
  },
  {
   "cell_type": "markdown",
   "metadata": {},
   "source": [
    "## 问题 4：\n",
    "\n",
    "给定一个包含n个元素的数组 `profits` , 它的第 `i` 个元素 `profits[i]` 表示一支股票第 `i` 天的**收益**（正数表示涨, 负数表示跌）。你只能选择 **某一天** 买入这只股票, 并选择在 **未来的某一个不同的日子** 卖出该股票。\n",
    "\n",
    "1. 设计一个算法来计算你所能获取的最大利润和对应买入和卖出的日期。请分析算法方案, 计算其时间复杂度, 并且使用python编程实现该算法。\n",
    "\n",
    "2. \\* 设计一个时间复杂度为 $O(n)$的算法实现该算法\n",
    "\n",
    "e.g. :\n",
    "---\n",
    "profits=[3,2,1,-7,5,2,-1,3,-1], 第5天买入, 第8天卖出, 收益最大：9\n",
    "\n"
   ]
  },
  {
   "cell_type": "markdown",
   "metadata": {},
   "source": [
    "idea:1.前缀和数组：将每日收益转换为累计和数组，便于快速计算区间和。\n",
    "     2.动态维护最小前缀：遍历数组，记录历史最小前缀和的索引，计算当前前缀和与历史最小前缀的差值，更新最大利润及买卖日期。\n",
    "     3.时间复杂度：①计算前缀和数组：O(n)②单次遍历找最大差值：O(n)③总复杂度：O(n)。"
   ]
  },
  {
   "cell_type": "code",
   "execution_count": 14,
   "metadata": {},
   "outputs": [
    {
     "name": "stdout",
     "output_type": "stream",
     "text": [
      "示例1最大利润: 9\n",
      "买入日期: 第5天，卖出日期: 第8天\n",
      "示例2最大利润: 14\n",
      "买入日期: 第1天，卖出日期: 第3天\n"
     ]
    }
   ],
   "source": [
    "# add your code\n",
    "def calculate_max_profit(profits):\n",
    "    n = len(profits)\n",
    "    if n < 2:\n",
    "        return 0, None, None  \n",
    "    \n",
    "    prefix = [0]\n",
    "    for p in profits:\n",
    "        prefix.append(prefix[-1] + p)\n",
    "    \n",
    "    max_profit = -float('inf')\n",
    "    min_prefix = prefix[0]      \n",
    "    buy_day = sell_day = 0      \n",
    "    current_min_index = 0         \n",
    "    \n",
    "    for j in range(n):\n",
    "        current_profit = prefix[j+1] - min_prefix\n",
    "        if current_profit > max_profit:\n",
    "            max_profit = current_profit\n",
    "            buy_day = current_min_index + 1 \n",
    "            sell_day = j + 1             \n",
    "        if prefix[j+1] < min_prefix:\n",
    "            min_prefix = prefix[j+1]\n",
    "            current_min_index = j + 1\n",
    "    \n",
    "    if max_profit <= 0:\n",
    "        return 0, None, None\n",
    "    return max_profit, (buy_day, sell_day)\n",
    "if __name__ ==\"__main__\":\n",
    "    profits1 = [3, 2, 1, -7, 5, 2, -1, 3, -1]\n",
    "    profits2 = [5, 8, 1, -7, -15, 2, -1, 3, -1]\n",
    "    max_profit1, dates1 = calculate_max_profit(profits1)\n",
    "    max_profit2, dates2 = calculate_max_profit(profits2)\n",
    "    print(f\"示例1最大利润: {max_profit1}\")\n",
    "    if dates:\n",
    "        print(f\"买入日期: 第{dates1[0]}天，卖出日期: 第{dates1[1]}天\")\n",
    "    else:\n",
    "        print(\"无法交易\")\n",
    "    print(f\"示例2最大利润: {max_profit2}\")\n",
    "    if dates:\n",
    "        print(f\"买入日期: 第{dates2[0]}天，卖出日期: 第{dates2[1]}天\")\n",
    "    else:\n",
    "        print(\"无法交易\")"
   ]
  },
  {
   "cell_type": "code",
   "execution_count": null,
   "metadata": {},
   "outputs": [],
   "source": [
    "# an algorithm with O(n)"
   ]
  },
  {
   "cell_type": "markdown",
   "metadata": {},
   "source": [
    "## 问题 5：\n",
    "\n",
    "观察下方的分治算法（divide-and-conquer algorithm）的伪代码, 回答下面问题\n",
    "\n",
    "```latex\n",
    "DoSomething(A,p,r)\n",
    "-----\n",
    "n := r-p+1\n",
    "if n=2 and A[p]>A[r] then\n",
    "    swap A[p] and A[r]\n",
    "else if n >= 3 then\n",
    "    m = ceil(2n/3)\n",
    "    DoSomething(A,p,p+m-1)\n",
    "    DoSomething(A,r-m+1,r)\n",
    "    DoSomething(A,p,p+m-1)  \n",
    "    \n",
    "---\n",
    "first call: DoSomething(A,1,n)\n",
    "```\n",
    "\n",
    "note：$ceil(2n/3)=\\left\\lceil {2n/3} \\right\\rceil$；$:=$ 表示赋值, 等价于 $\\to$；A是一个包含n的整数元素的数组, \n",
    "\n",
    "1. 写出该算法时间复杂度的递归公式, 并求解其对应的渐进表示\n",
    "2. 描述一下该算法的功能, 并判断是否是最高效的解决方案\n",
    "3. 使用python编程实现上述算法或其对应的更高效版本的算法\n"
   ]
  },
  {
   "cell_type": "markdown",
   "metadata": {},
   "source": [
    "idea："
   ]
  },
  {
   "cell_type": "markdown",
   "metadata": {},
   "source": [
    "answer:\n",
    "![hw1a5](fig/hw1a5.jpg) "
   ]
  },
  {
   "cell_type": "code",
   "execution_count": 15,
   "metadata": {},
   "outputs": [
    {
     "name": "stdout",
     "output_type": "stream",
     "text": [
      "[1, 1, 2, 3, 4, 5, 6, 9]\n"
     ]
    }
   ],
   "source": [
    "# add your code here\n",
    "# your algorithm time complexity is :O(n2.7095)\n",
    "#original edition\n",
    "import math\n",
    "def DoSomething(A, p, r):\n",
    "    n = r - p + 1\n",
    "    if n == 2 and A[p] > A[r]:\n",
    "        A[p], A[r] = A[r], A[p]\n",
    "    elif n >= 3:\n",
    "        m = math.ceil(2 * n / 3)\n",
    "        DoSomething(A, p, p + m - 1)\n",
    "        DoSomething(A, r - m + 1, r)\n",
    "        DoSomething(A, p, p + m - 1)\n",
    "    return A\n",
    "\n",
    "if __name__ ==\"__main__\":\n",
    "    # 示例调用\n",
    "    A = [3, 1, 4, 1, 5, 9, 2, 6]\n",
    "    DoSomething(A, 0, len(A)-1)  \n",
    "    print(A)  "
   ]
  },
  {
   "cell_type": "code",
   "execution_count": 16,
   "metadata": {},
   "outputs": [
    {
     "name": "stdout",
     "output_type": "stream",
     "text": [
      "[1, 2, 3, 4, 5]\n"
     ]
    }
   ],
   "source": [
    "# add your code here\n",
    "# your algorithm time complexity is :O(nlogn) \n",
    "#advanced edition\n",
    "def merge_sort(A):\n",
    "    if len(A) <= 1:\n",
    "        return A\n",
    "    mid = len(A) // 2\n",
    "    left = merge_sort(A[:mid])\n",
    "    right = merge_sort(A[mid:])\n",
    "    return merge(left, right)\n",
    "\n",
    "def merge(left, right):\n",
    "    merged = []\n",
    "    i = j = 0\n",
    "    while i < len(left) and j < len(right):\n",
    "        if left[i] <= right[j]:\n",
    "            merged.append(left[i])\n",
    "            i += 1\n",
    "        else:\n",
    "            merged.append(right[j])\n",
    "            j += 1\n",
    "    merged += left[i:]\n",
    "    merged += right[j:]\n",
    "    return merged\n",
    "\n",
    "if __name__ ==\"__main__\":\n",
    "    # 调用示例\n",
    "    A = [5, 3, 1, 4, 2]\n",
    "    sorted_A = merge_sort(A)\n",
    "    print(sorted_A)  "
   ]
  },
  {
   "cell_type": "markdown",
   "metadata": {},
   "source": [
    "## 问题 6：\n",
    "\n",
    "给定一个大小为 `n` 的数组 `nums` , 返回其中的多数元素。多数元素是指在数组中出现次数 **大于** `⌊ n/2 ⌋` 的元素。\n",
    "\n",
    "你可以假设数组是非空的, 并且给定的数组总是存在多数元素。\n",
    "\n",
    "1. 设计一个算法找到给定数组的多数元素, 分析算法设计思路, 计算算法时间复杂度, 使用python编程实现\n",
    "2. \\* 设计时间复杂度为 O(n)、空间复杂度为 O(1) 的算法解决此问题, 分析算法设计思路, 使用python编程实现\n",
    "\n",
    "e.g.:\n",
    "---\n",
    "1. nums=[3,2,3], 返回3\n",
    "2. nums=[2,2,1,1,1,2,2], 返回2\n"
   ]
  },
  {
   "cell_type": "markdown",
   "metadata": {},
   "source": [
    "idea：\n",
    "1.初始化：维护一个候选元素 candidate 和计数器 count。\n",
    "2.遍历数组：\n",
    "        当计数器为0时，将当前元素设为候选。\n",
    "        当前元素等于候选时，计数器加1；否则减1。\n",
    "3.返回候选：由于题目保证多数元素存在，最终候选即为结果。"
   ]
  },
  {
   "cell_type": "code",
   "execution_count": 17,
   "metadata": {},
   "outputs": [
    {
     "name": "stdout",
     "output_type": "stream",
     "text": [
      "3\n",
      "2\n"
     ]
    }
   ],
   "source": [
    "# add your code here\n",
    "# your algorithm time complexity is :O(n)\n",
    "def majorityElement(nums):\n",
    "    candidate = None\n",
    "    count = 0\n",
    "    for num in nums:\n",
    "        if count == 0:\n",
    "            candidate = num\n",
    "        count += 1 if num == candidate else -1\n",
    "    return candidate\n",
    "\n",
    "if __name__ ==\"__main__\":\n",
    "    # 示例测试\n",
    "    print(majorityElement([3,2,3]))             \n",
    "    print(majorityElement([2,2,1,1,1,2,2]))     "
   ]
  },
  {
   "cell_type": "markdown",
   "metadata": {},
   "source": [
    "idea for 2\\*："
   ]
  },
  {
   "cell_type": "code",
   "execution_count": null,
   "metadata": {},
   "outputs": [],
   "source": [
    "# algorithm time complexity：O(n), space complexity:O(1)\n",
    "# add your code here"
   ]
  },
  {
   "cell_type": "markdown",
   "metadata": {},
   "source": [
    "## 问题 7：\n",
    "\n",
    "给定一个包含不同整数元素的数组 $ A[1..n]$ ,并且满足条件：$A[1]>A[2]$ 并且 $A[n-1]<A[n]$; 规定：如果一个元素比它两边的邻居元素都小, 即：$A[x]<A[x-1], A[x]<A[x+1]$ , 称这个元素A[x]为“局部最小”。通过遍历一次数组, 我们可以很容易在 $O(n)$的时间复杂度下找到一个局部最小值, \n",
    "\n",
    "\n",
    "1. 分析该问题, 设计一个算法在$O(logn)$的时间复杂度下找到一个局部最小(返回数值), 要求：分析算法设计思路, 并且使用python编程实现\n",
    "2. \\* 设计算法找出所有局部最小值, 分析算法设计思路, 并使用python编程实现\n",
    "\n",
    "e.g.:\n",
    "---\n",
    "A=[9, 3, 7, 2, 1, 4, 5 ] 时,  局部最小元素为 3, 1\n"
   ]
  },
  {
   "cell_type": "markdown",
   "metadata": {},
   "source": [
    "idea：\n",
    "1.初始化边界：设置左右指针为数组的起始和结束位置。\n",
    "2.二分查找：\n",
    "    计算中间位置mid。\n",
    "    检查mid是否为局部最小值（即比左右邻居小）。\n",
    "    如果是，直接返回该值。\n",
    "    否则，选择较小邻居所在的一侧继续搜索，因为较小的一侧更可能形成新的谷底。\n",
    "3.终止条件：当左右指针相遇时，当前元素即为局部最小值。"
   ]
  },
  {
   "cell_type": "code",
   "execution_count": 18,
   "metadata": {},
   "outputs": [
    {
     "name": "stdout",
     "output_type": "stream",
     "text": [
      "1\n"
     ]
    }
   ],
   "source": [
    "# add your code here\n",
    "# your algorithm time complexity is :O(logn)\n",
    "def find_local_minimum(A):\n",
    "    n = len(A)\n",
    "    if n == 0:\n",
    "        return None\n",
    "    if n == 1:\n",
    "        return A[0]\n",
    "    \n",
    "    left, right = 0, n - 1\n",
    "    while left <= right:\n",
    "        mid = (left + right) // 2\n",
    "        is_smaller_than_left = (mid == 0) or (A[mid] < A[mid - 1])\n",
    "        is_smaller_than_right = (mid == n - 1) or (A[mid] < A[mid + 1])\n",
    "        \n",
    "        if is_smaller_than_left and is_smaller_than_right:\n",
    "            return A[mid]\n",
    "        elif mid > 0 and A[mid - 1] < A[mid]:\n",
    "            right = mid - 1\n",
    "        else:\n",
    "            left = mid + 1\n",
    "    return None  \n",
    "\n",
    "if __name__ ==\"__main__\":\n",
    "    # 示例测试\n",
    "    A = [9, 3, 7, 2, 1, 4, 5]\n",
    "    print(find_local_minimum(A))  "
   ]
  },
  {
   "cell_type": "markdown",
   "metadata": {},
   "source": [
    "## 问题 8：\n",
    "\n",
    "给定包含n个不同数字的一组数, 寻找一种基于比较的算法在这组数中找到k个最小的数字, 并按顺序输出它们。\n",
    "\n",
    "1. 将n个数先进行排序, 然后按顺序输出最小的k个数。要求：选择合适的排序算法实现上述操作, 计算算法时间复杂度, 并使用python编程实现。\n",
    "2. 建立一个包含这n个数的堆（heap）, 并且调用 k 次Extract-min 按顺序输出最小的k个数。使用往空堆中不断插入元素的方法建立堆, 分析这种方法建堆的时间复杂度, 并使用python编程实现\n",
    "3. \\* 假设数组中包含的数据总数目超过了计算机的存储能力, 请设计一个算法, 找到这堆数据的前k小的数值, 计算时间复杂度, 并使用python实现该算法, 假设计算机一定能存储k个数据。\n",
    "\n",
    "e.g.：\n",
    "---\n",
    "数组arr=[5,4,3,2,6,1,88,33,22,107] 的前3个最小数据为：1, 2, 3\n"
   ]
  },
  {
   "cell_type": "markdown",
   "metadata": {},
   "source": [
    ">idea1：使用快速排序算法实现排序，然后直接用python切片实现输出前k个元素,时间复杂度由快速排序复杂度决定为O(nlogn)\n",
    ">\n",
    ">idea2：\n",
    ">\n",
    ">时间复杂度：\n",
    ">\n",
    ">①建堆：每次插入元素到堆的时间为O(logn)，共n次，总时间为O(nlogn)。\n",
    ">\n",
    ">②提取k次：每次Extract-min的时间为O(log n)，总时间为O(klogn)。\n",
    ">\n",
    ">③总时间复杂度：O(nlog n + klogn)。"
   ]
  },
  {
   "cell_type": "code",
   "execution_count": 23,
   "metadata": {},
   "outputs": [
    {
     "name": "stdout",
     "output_type": "stream",
     "text": [
      "[1, 2, 3]\n"
     ]
    }
   ],
   "source": [
    "#1\n",
    "# add your code here\n",
    "# your algorithm time complexity is : O(nlogn)\n",
    "\n",
    "def quick_sort(arr):\n",
    "    if len(arr) <= 1:\n",
    "        return arr\n",
    "    pivot = arr[len(arr) // 2]  \n",
    "    left = [x for x in arr if x < pivot]\n",
    "    middle = [x for x in arr if x == pivot]\n",
    "    right = [x for x in arr if x > pivot]\n",
    "    return quick_sort(left) + middle + quick_sort(right)\n",
    "\n",
    "def find_k_smallest_manual_quick_sort(arr, k):\n",
    "    sorted_arr = quick_sort(arr)\n",
    "    return sorted_arr[:k]\n",
    "\n",
    "if __name__ ==\"__main__\":\n",
    "    # 示例测试\n",
    "    arr = [5, 4, 3, 2, 6, 1, 88, 33, 22, 107]\n",
    "    print(find_k_smallest_manual_quick_sort(arr, 3))"
   ]
  },
  {
   "cell_type": "code",
   "execution_count": 22,
   "metadata": {},
   "outputs": [
    {
     "name": "stdout",
     "output_type": "stream",
     "text": [
      "[1, 2, 3]\n"
     ]
    }
   ],
   "source": [
    "#2\n",
    "# add your code here\n",
    "# your algorithm time complexity is :O(nlog n + klogn)\n",
    "import heapq\n",
    "\n",
    "def find_k_smallest_heap(arr, k):\n",
    "    heap = []\n",
    "    for num in arr:\n",
    "        heapq.heappush(heap, num)\n",
    "    res = []\n",
    "    for _ in range(k):\n",
    "        res.append(heapq.heappop(heap))\n",
    "    return res\n",
    "\n",
    "if __name__ ==\"__main__\":\n",
    "    # 示例测试\n",
    "    arr = [5, 4, 3, 2, 6, 1, 88, 33, 22, 107]\n",
    "    print(find_k_smallest_heap(arr, 3))"
   ]
  },
  {
   "cell_type": "markdown",
   "metadata": {},
   "source": [
    "## 问题 9：\n",
    "\n",
    "**选择问题**:给定一个包含n个未排序值的数组A和一个$k≤n$的整数, 返回A中最小的第k项。\n",
    "\n",
    "在课堂上, 学了一个简单的O(n)随机算法来解决选择问题。事实上还有一种更复杂的最坏情况下时间复杂度为$O(n)$ 的选择算法。假设使用一个黑盒过程来实现这个O(n)选择算法: 给定一个数组A、 $p < r$ 和 k,  $BB(A, p, r, k)$ 可以在$O(r−p+ 1)$时间内找到并报告$A[p..r]$中第k小的项的下标。假设你可以在线性时间内处理Partition过程。\n",
    "\n",
    "1. 请分析如何修改 Quicksork 算法可以使其最差情况下的运行时间为 $O(nlogn)$, 使用伪代码实现, 并分析为何修改后的版本最差情况的运行时间为$O(nlogn)$\n",
    "\n",
    "note: 伪代码中, 你可以直接调用用` BB(A,p,r,k)`这个函数用于表示在最坏情况下时间复杂度为$O(n)$的选择算法；\n",
    "\n",
    "\n",
    "\n",
    "2. 找到一个更好的算法报告数组A中的前k小的项, 使用伪代码表示你的算法, 并分析你算法的时间复杂度。\n",
    "\n",
    "举例：A=[13, 3, 7, 9, 11, 1, 15, 2, 8, 10, 12, 16, 14, 5], 当k=4时, 应该报告1, 2, 3, 4\n",
    "\n",
    "note： 最直观的方法就是先将数组A排序, 然后从左向右报告其前k项, 这样操作的时间复杂度为$O(nlogn)$. 调用用` BB(A,p,r,k)`设计一个算法使其报告无序数组A的前k项, 满足时间复杂度好于$\\Theta(nlogn)$, 并且当$k=\\sqrt{n}$时, 你设计的算法时间复杂度应该为$\\Theta(n)$.\n",
    "\n",
    "\n",
    "\n",
    "3. 给定一个大小为n的数组, 找到一个 时间复杂度为$O(n log k)$ 的算法, 该算法将A中的元素重新排序, 使它们被划分为k个部分, 每个部分的元素小于或等于下一部分的元素。假设n和k都是2的幂。使用伪代码表示你的算法, 并分析时间复杂度。\n",
    "\n",
    "e.g.:\n",
    "---\n",
    "数组：[1,  3,  5,  7,  9,  11,  13,  15,  2,  4,  6,  8,  10,  12,  16,  14], k=4, \n",
    "\n",
    "对应重新排序的数组为：[1,  3,  2,  4]  [7,  6,  5,  8]  [12,  11,  10,  9]  [13,  14,  16,  15]\n",
    "\n",
    "\n"
   ]
  },
  {
   "cell_type": "markdown",
   "metadata": {},
   "source": [
    ">idea：\n",
    ">\n",
    ">1.\n",
    ">BB函数保证平衡分割：每次通过BB函数选择中位数作为pivot，确保将数组分为大小近似相等的两部分。\n",
    ">递归深度：每次分割后问题规模减半，递归深度为O(logn)。\n",
    ">每层时间复杂度：每层递归总处理规模为n，时间复杂度O(n)。\n",
    ">总时间复杂度：O(n) × O(logn) = O(n ogn)。\n",
    "2.\n",
    "BB函数选择：BB函数直接定位前k小元素，时间复杂度O(n)。\n",
    "排序局部结果：对k个元素排序的时间复杂度为O(k logk)。\n",
    "总时间复杂度：O(n + k logk)。\n",
    "k=√n时优化：当k=√n时，总时间复杂度为O(n + √n logn) = O(n)。\n",
    "3.\n",
    "分治策略：每次将数组分为两部分，递归处理k/2段，共logk层。\n",
    "BB函数分割：每次分割的时间复杂度为O(n)。\n",
    "递归时间复杂度：每层总处理规模为n，总时间复杂度O(nlogk)。\n",
    "正确性：每次分割保证左半部分≤右半部分，最终形成k个有序段。"
   ]
  },
  {
   "cell_type": "code",
   "execution_count": null,
   "metadata": {},
   "outputs": [],
   "source": [
    "1.\n",
    "procedure ModifiedQuicksort(A, p, r):\n",
    "    if p < r:\n",
    "        n = r - p + 1\n",
    "        k_median = n // 2                // 选择中间位置\n",
    "        BB(A, p, r, k_median)            // 将前k_median小元素移动到左边\n",
    "        q = p + k_median -1              // 分割点\n",
    "        ModifiedQuicksort(A, p, q)       // 递归处理左半部分\n",
    "        ModifiedQuicksort(A, q+1, r)     // 递归处理右半部分\n",
    "\n",
    "2.\n",
    "function ReportKSmallest(A, k):\n",
    "    BB(A, 0, len(A)-1, k)    // 将前k小元素移动到数组前k位置\n",
    "    result = A[0..k-1]       // 提取前k项\n",
    "    sort(result)             // 对结果排序\n",
    "    return result\n",
    "\n",
    "3.\n",
    "function Reorder(A, k):\n",
    "    if k == 1:\n",
    "        return A\n",
    "    mid_pos = len(A) // 2\n",
    "    mid_val = BB(A, 0, len(A)-1, mid_pos)  // 找到中间值\n",
    "    left = [x for x in A if x <= mid_val]  // 左半部分\n",
    "    right = [x for x in A if x > mid_val]  // 右半部分\n",
    "    return Reorder(left, k//2) + Reorder(right, k//2) // 递归合并结果"
   ]
  },
  {
   "cell_type": "markdown",
   "metadata": {},
   "source": [
    "## 问题 10：\n",
    "\n",
    "给定一个包含m个**字符串**的数组A, 其中不同的字符串可能有不同的字符数, 但数组中所有字符串的字符总数为n。设计一个算法在 $O(n)$ 时间内对字符串进行排序, 分析算法设计方案, 计算其时间复杂度, 并基于python编程实现该算法。请注意, 假设字符串只包含\"a\",\"b\",...,\"z\", \n",
    "\n",
    "\n",
    "\n",
    "举例1：数组A=[\"a\", \"da\", \"bde\", \"ab\", \"bc\", \"abdc\", \"cdba\"], 排序后的数组应该为：['a', 'ab', 'abdc', 'bc', 'bde', 'cdba', 'da']\n",
    "\n",
    "\n",
    "\n",
    "举例2：数组A=['ab', 'a', 'b', 'abc', 'ba', 'c'], 排序后的数组应该为：\n",
    "\n",
    "['a', 'ab', 'abc', 'b', 'ba', 'c']\n",
    "\n",
    "\n",
    "\n",
    "举例3：数组A=['aef', 'yzr', 'wr', 'ab', 'bhjc', 'lkabdc', 'pwcdba'],  排序后的数组应该为：['ab', 'aef', 'bhjc', 'lkabdc', 'pwcdba', 'wr', 'yzr']\n",
    "\n",
    "\n",
    "\n",
    "note：\n",
    "\n",
    "-  两个字符之间的比较可以考虑比较他们对应的ASCII码值；\n",
    "- python中可以使用`ord(\"a\")`返回字符 “a”对应的ASCII值"
   ]
  },
  {
   "cell_type": "markdown",
   "metadata": {},
   "source": [
    "idea:\n",
    "本题参考大模型\n",
    ">为了实现字符串数组的线性时间复杂度排序，我们可以使用前缀树结构。Trie(前缀树)能够高效地处理字符串的字典序排序，并在插入和遍历时保持线性时间复杂度。\n",
    ">\n",
    ">方法思路:\n",
    ">\n",
    ">构建Trie树：将所有字符串插入到Trie树中，每个节点代表一个字符，路径从根到叶子节点表示一个完整的字符串。节点中记录该路径下字符串的出现次数。\n",
    ">\n",
    ">遍历Trie树：深度优先遍历Trie树，按字典序收集所有字符串。遍历时维护当前路径的字符，遇到结束节点时将字符串添加到结果中。"
   ]
  },
  {
   "cell_type": "code",
   "execution_count": 7,
   "metadata": {},
   "outputs": [
    {
     "name": "stdout",
     "output_type": "stream",
     "text": [
      "['a', 'ab', 'abdc', 'bc', 'bde', 'cdba', 'da']\n",
      "['a', 'ab', 'abc', 'b', 'ba', 'c']\n",
      "['ab', 'aef', 'bhjc', 'lkabdc', 'pwcdba', 'wr', 'yzr']\n"
     ]
    }
   ],
   "source": [
    "# add your code here\n",
    "# your algorithm time complexity is :O(n)\n",
    "class TrieNode:\n",
    "    def __init__(self, parent=None, char=None):\n",
    "        self.children = [None] * 26  # 子节点数组，对应a-z\n",
    "        self.count = 0               # 记录该节点作为终点的字符串数量\n",
    "        self.parent = parent         # 父节点指针\n",
    "        self.char = char             # 当前节点对应的字符\n",
    "\n",
    "def sort_strings(A):\n",
    "    # 构建Trie树\n",
    "    root = TrieNode()\n",
    "    for s in A:\n",
    "        node = root\n",
    "        for c in s:\n",
    "            idx = ord(c) - ord('a')\n",
    "            if not node.children[idx]:\n",
    "                node.children[idx] = TrieNode(parent=node, char=c)\n",
    "            node = node.children[idx]\n",
    "        node.count += 1  # 字符串结束，计数增加\n",
    "    \n",
    "    # 遍历Trie树，收集排序后的结果\n",
    "    result = []\n",
    "    stack = [root]  # 使用栈进行深度优先遍历\n",
    "    \n",
    "    def get_string(node):\n",
    "        # 回溯到根节点，构建字符串\n",
    "        chars = []\n",
    "        current = node\n",
    "        while current.parent is not None:\n",
    "            chars.append(current.char)\n",
    "            current = current.parent\n",
    "        return ''.join(reversed(chars))\n",
    "    \n",
    "    while stack:\n",
    "        current_node = stack.pop()\n",
    "        # 如果当前节点是某个字符串的终点，则添加到结果\n",
    "        if current_node.count > 0:\n",
    "            s = get_string(current_node)\n",
    "            result.extend([s] * current_node.count)\n",
    "        # 按逆序将子节点压入栈，确保弹出顺序是a到z\n",
    "        for c in reversed('abcdefghijklmnopqrstuvwxyz'):\n",
    "            idx = ord(c) - ord('a')\n",
    "            if current_node.children[idx]:\n",
    "                stack.append(current_node.children[idx])\n",
    "    \n",
    "    return result\n",
    "\n",
    "if __name__ ==\"__main__\":\n",
    "    # 示例测试\n",
    "    A1 = [\"a\", \"da\", \"bde\", \"ab\", \"bc\", \"abdc\", \"cdba\"]\n",
    "    A2 = ['ab', 'a', 'b', 'abc', 'ba', 'c']\n",
    "    A3 = ['aef', 'yzr', 'wr', 'ab', 'bhjc', 'lkabdc', 'pwcdba']\n",
    "    print(sort_strings(A1)) \n",
    "    print(sort_strings(A2))\n",
    "    print(sort_strings(A3))"
   ]
  },
  {
   "cell_type": "code",
   "execution_count": null,
   "metadata": {},
   "outputs": [],
   "source": []
  }
 ],
 "metadata": {
  "kernelspec": {
   "display_name": "Python 3 (ipykernel)",
   "language": "python",
   "name": "python3"
  },
  "language_info": {
   "codemirror_mode": {
    "name": "ipython",
    "version": 3
   },
   "file_extension": ".py",
   "mimetype": "text/x-python",
   "name": "python",
   "nbconvert_exporter": "python",
   "pygments_lexer": "ipython3",
   "version": "3.10.16"
  }
 },
 "nbformat": 4,
 "nbformat_minor": 4
}
