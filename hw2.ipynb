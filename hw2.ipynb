{
 "cells": [
  {
   "cell_type": "markdown",
   "metadata": {},
   "source": [
    "## algorithm design and anlysis-2025 spring  homework 2\n",
    "**Deadline**：2025.5.14\n",
    "\n",
    "**name**:唐飞\n",
    "\n",
    "\n",
    "note：\n",
    "---\n",
    "1. 带有\\*的题目，申请免上课的同学，必须完成，其他同学选作；\n",
    "2. 请独立完成，如求助了他人或者大模型，请著明，并且不可省略算法分析部分；\n",
    "4. 如若作答有雷同，全部取消成绩；\n",
    "3. 需要书面作答的题目，可以通过引用图片的形式添加，但是注意上传项目时包含所引用的图片的源文件；\n",
    "4. $log_n$ 默认表示$log_2{n}$;"
   ]
  },
  {
   "cell_type": "markdown",
   "metadata": {},
   "source": [
    "## 问题 1  \n",
    "\n",
    "> 给定一个已排序的链表的头 `head` ， *删除所有重复的元素，使每个元素只出现一次* 。返回 *已排序的链表* 。链表的类如下所示：\n",
    "\n",
    "```python\n",
    "class NodeList:\n",
    "    def __init__(self, val=None, right=None):\n",
    "        self.val   = val\n",
    "        self.right = right\n",
    "```\n",
    "\n",
    "输入是一个数组，你首先需要将数组转化为链表，然后删除链表中的重复元素，再遍历链表元素，以一个数组的形式返回。请设计一个算法解决上述任务，分析算法设计思路，计算时间复杂度, 并基于python编程实现。\n",
    "\n",
    "e.g.  输入：head=[1, 1, 2, 3, 3]   输出：[1, 2, 3]\n",
    "\n",
    "![image-20240502110020439](./fig/hw2q1.png)\n",
    "\n"
   ]
  },
  {
   "cell_type": "markdown",
   "metadata": {},
   "source": [
    "idea：\n",
    ">思路分析\n",
    ">\n",
    ">题目要求删除已排序链表中的重复元素，使得每个元素只出现一次。由于链表已排序，重复元素必然是连续的。我们可以通过一次遍历，逐个比较当前节点与下一个节点的值，若相同则跳过重复节点，最终得到不包含重复元素的链表。\n",
    ">\n",
    ">算法步骤：\n",
    ">\n",
    ">  1.处理输入输出转换：将输入数组转换为链表，处理后再将链表转回数组。\n",
    ">\n",
    ">  2.遍历链表：使用指针 current 从头节点开始遍历。\n",
    ">\n",
    ">  3.删除重复节点：若当前节点值与下一个节点值相同，则将当前节点的 right 指针指向下一个节点的下一个节点，跳过重复节点。否则，移动 current 到下一个节点。\n",
    ">\n",
    ">  4.终止条件：当 current 或 current.right 为空时结束遍历。\n",
    ">\n",
    ">  5.时间复杂度：O(n)，每个节点仅遍历一次。"
   ]
  },
  {
   "cell_type": "code",
   "execution_count": 1,
   "metadata": {},
   "outputs": [
    {
     "name": "stdout",
     "output_type": "stream",
     "text": [
      "[1, 2, 3]\n"
     ]
    }
   ],
   "source": [
    "# add your idea here\n",
    "# your algorithm time complexity is:O(n)\n",
    "class NodeList:\n",
    "    def __init__(self, val=0, right=None):\n",
    "        self.val = val\n",
    "        self.right = right\n",
    "\n",
    "class Solution:\n",
    "    def deleteDuplicates(self, head: NodeList) -> NodeList:\n",
    "        current = head\n",
    "        while current and current.right:\n",
    "            if current.val == current.right.val:\n",
    "                current.right = current.right.right\n",
    "            else:\n",
    "                current = current.right\n",
    "        return head\n",
    "\n",
    "def array_to_linked_list(arr):\n",
    "    if not arr:\n",
    "        return None\n",
    "    head = NodeList(arr[0])\n",
    "    current = head\n",
    "    for val in arr[1:]:\n",
    "        current.right = NodeList(val)\n",
    "        current = current.right\n",
    "    return head\n",
    "\n",
    "def linked_list_to_array(head):\n",
    "    arr = []\n",
    "    current = head\n",
    "    while current:\n",
    "        arr.append(current.val)\n",
    "        current = current.right\n",
    "    return arr\n",
    "\n",
    "\n",
    "if __name__ == \"__main__\":\n",
    "    # 示例测试\n",
    "    input_arr = [1, 1, 2, 3, 3]\n",
    "    head = array_to_linked_list(input_arr)\n",
    "    sol = Solution()\n",
    "    new_head = sol.deleteDuplicates(head)\n",
    "    output_arr = linked_list_to_array(new_head)\n",
    "    print(output_arr)  "
   ]
  },
  {
   "cell_type": "markdown",
   "metadata": {},
   "source": [
    "## 问题 2  \n",
    "\n",
    "> 下面是一个经典的算法问题：\n",
    ">\n",
    "> - 给定包含n个整数的一个整数数组 `nums` 和一个整数目标值 `target`，请你在该数组中找出 **和为目标值** *`target`* 的那 **两个** 整数，并返回它们的**数组下标**。假设每种输入只会对应一个答案。但是，数组中同一个元素在答案里不能重复出现。你可以按任意顺序返回答案。\n",
    ">\n",
    "> 由于要多次查找数组中元素的位置，为了提高查询效率可以使用哈希表来存储数组中的数据，在哈希表中查询一个元素的复杂度为O(1)。 已知python中的字典是使用哈希表实现的，即使用`dict[key]`查询对应的value时间复杂度为O(1), python提供了查询字典是否包含某个key的功能：`key in dict`，时间复杂度也是O(1)\n",
    "\n",
    "请根据上面信息，设计一个时间复杂度为O(n) 的算法，解决上述算法问题\n",
    "\n",
    "e.g.   \n",
    "\n",
    "输入：nums=[2,7,11,15], target=9， 输出：[0，1]\n",
    "\n",
    "输入：nums=[3,2,4], target=6, 输出：[1,2]\n",
    "\n",
    "输入：nums=[3,3], target=6,  输出：[0,1]\n"
   ]
  },
  {
   "cell_type": "code",
   "execution_count": 1,
   "metadata": {},
   "outputs": [
    {
     "name": "stdout",
     "output_type": "stream",
     "text": [
      "[0, 1]\n",
      "[1, 2]\n",
      "[0, 1]\n"
     ]
    }
   ],
   "source": [
    "# add your idea here\n",
    "# your algorithm time complexity is: O(n)\n",
    "def twoSum(nums, target):\n",
    "    num_dict = {}\n",
    "    for i, num in enumerate(nums):\n",
    "        complement = target - num\n",
    "        if complement in num_dict:\n",
    "            return [num_dict[complement], i]\n",
    "        num_dict[num] = i\n",
    "    return []  \n",
    "\n",
    "if __name__ ==\"__main__\":\n",
    "    nums1 = [2, 7, 11, 15]\n",
    "    target1 = 9\n",
    "    result1 = twoSum(nums1, target1)\n",
    "    print(result1)\n",
    "    print(twoSum([3, 2, 4], 6))\n",
    "    print(twoSum([3, 3], 6))"
   ]
  },
  {
   "cell_type": "markdown",
   "metadata": {},
   "source": [
    "## 问题 3:   \n",
    "\n",
    "> 栈是一种常用的数据结构，编译器中通常使用栈来实现表达式求值。\n",
    ">\n",
    "> 以表达式 $3+5 \\times 8-6$​ 为例。编译器使用两个栈来完成运算，即一个栈保持操作数，另一个栈保存运算符。\n",
    ">\n",
    "> 1. 从左向右遍历表达式，遇到数字就压入操作数栈；\n",
    ">\n",
    "> 2. 遇到运算符，就与运算符栈的栈顶元素进行比较。如果比运算符栈顶元素的优先级高，就将当前运算符压入栈；如果比运算符栈顶元素的优先级低或者相同，从运算符栈中取栈顶运算符，从操作数栈的栈顶取 2 个操作数，然后进行计算，再把计算完的结果压入操作数栈，继续比较。\n",
    ">\n",
    "> 下图是 $3+5 \\times 8-6$  这个表达式的计算过程：\n",
    "\n",
    "![figure](./fig/hw2q3.png)\n",
    "\n",
    "根据上述原理，请设计一个算法完成表达式的运算，当输入为表达式字符串，返回对应的计算结果。分析算法设计思路，计算时间复杂度，并基于python编程实现\n",
    "\n",
    "**note：**\n",
    "\n",
    "1. 假设输入的表达式只会出现加（“+”），减 “-”， 乘“*”，除 “/” 四个运算符, 表达式中只会出现正整数\n",
    "2. python中` str.isdigit()`函数可以判断字符串str是否为数字，\n",
    "\n",
    "\n",
    "\n",
    "e.g. :\n",
    "---\n",
    "\n",
    "1. 输入：“$3+5 * 8 -6$”   输出：37\n",
    "\n",
    "2. 输入：“$34+13*9 + 44-12/3$”  输出：191"
   ]
  },
  {
   "cell_type": "markdown",
   "metadata": {},
   "source": [
    "idea：\n",
    ">表达式求值问题可以通过双栈法高效解决，其中操作数栈存储数字，运算符栈存储运算符。算法的核心思想是根据运算符优先级决定计算顺序，优先处理高优先级运算符。具体步骤如下：\n",
    ">\n",
    ">1.预处理：去除输入字符串中的空格。\n",
    ">\n",
    ">2.遍历表达式：\n",
    "  遇到数字时，提取完整数字并入操作数栈。\n",
    "  遇到运算符时，比较当前运算符与运算符栈顶的优先级。若栈顶优先级更高或相等，则从栈顶取出运算符和操作数计算，结果压回操作数栈，直到当前运算符优先级更高为止，最后将当前运算符压入运算符栈。\n",
    ">\n",
    ">3.处理剩余运算符：遍历结束后，依次取出运算符栈中的剩余运算符进行计算。\n",
    ">\n",
    ">4.返回结果：操作数栈中的唯一元素即为最终结果。"
   ]
  },
  {
   "cell_type": "code",
   "execution_count": 2,
   "metadata": {},
   "outputs": [
    {
     "name": "stdout",
     "output_type": "stream",
     "text": [
      "37\n",
      "191\n"
     ]
    }
   ],
   "source": [
    "# add your idea here\n",
    "# your algorithm time complexity is: O(n)\n",
    "def calculate(s: str) -> int:\n",
    "    s = s.replace(' ', '')  \n",
    "    priority = {'+': 1, '-': 1, '*': 2, '/': 2}\n",
    "    num_stack = []\n",
    "    op_stack = []\n",
    "    i, n = 0, len(s)\n",
    "    \n",
    "    while i < n:\n",
    "        if s[i].isdigit():\n",
    "            num_str = ''\n",
    "            while i < n and s[i].isdigit():\n",
    "                num_str += s[i]\n",
    "                i += 1\n",
    "            num_stack.append(int(num_str))\n",
    "        else:\n",
    "            current_op = s[i]\n",
    "            while op_stack and priority[op_stack[-1]] >= priority[current_op]:\n",
    "                self_evaluate(num_stack, op_stack)\n",
    "            op_stack.append(current_op)\n",
    "            i += 1\n",
    "    \n",
    "    while op_stack:\n",
    "        self_evaluate(num_stack, op_stack)\n",
    "    \n",
    "    return num_stack[0]\n",
    "\n",
    "def self_evaluate(num_stack, op_stack):\n",
    "    op = op_stack.pop()\n",
    "    b = num_stack.pop()\n",
    "    a = num_stack.pop()\n",
    "    if op == '+':\n",
    "        res = a + b\n",
    "    elif op == '-':\n",
    "        res = a - b\n",
    "    elif op == '*':\n",
    "        res = a * b\n",
    "    elif op == '/':\n",
    "        res = a // b \n",
    "    num_stack.append(res)\n",
    "\n",
    "if __name__ == \"__main__\":\n",
    "    input1 = \"3 + 5 * 8 - 6\"\n",
    "    input2 = \"34 + 13 * 9 + 44 - 12 / 3\"\n",
    "    output1 = calculate(input1)\n",
    "    output2 = calculate(input2)\n",
    "    print(output1)\n",
    "    print(output2)"
   ]
  },
  {
   "cell_type": "markdown",
   "metadata": {},
   "source": [
    "## 问题 4:  \n",
    "\n",
    "> 星球碰撞问题：现有n个星球，在同一条直线上运行，如数组A所示，元素的绝对值表示星球的质量，负数表示星球自右向左运动，正数表示星球自左向右运动，当两个星球相撞的时候，质量小的会消失，大的保持不变，**质量相同的两个星球碰撞后自右向左运动的星球消失，自左向右的星球保持不变**，假设所有星球的速度大小相同。\n",
    ">\n",
    "> $ A=[23,-8, 9, -3, -7, 9, -23, 22] $\n",
    "\n",
    "请设计一个算法模拟星球的运行情况，输出最终的星球存续情况（输出一个数组），分析算法设计思路，计算时间复杂度，并基于python编程实现。\n",
    "\n",
    "e.g.\n",
    "---\n",
    "1.  输入： A=[-3,-6,2,8, 5,-8,9,-2,1]， 输出：[-3, -6, 2, 8, 9, 1]\n",
    "\n",
    "2. 输入：A=[23,-8, 9, -3, -7, 9, -23, 22], 输出：[23, 22]\n",
    "\n"
   ]
  },
  {
   "cell_type": "markdown",
   "metadata": {},
   "source": [
    "idea:\n",
    ">利用数组模拟栈。\n",
    ">\n",
    ">1.栈结构：用栈保存存活的星球。\n",
    ">\n",
    ">2.遍历数组：逐个处理星球，判断是否与栈顶星球碰撞。\n",
    ">\n",
    ">3.碰撞处理：\n",
    "当栈顶向右（正）且当前星球向左（负）时，触发碰撞。\n",
    "根据质量大小决定栈顶或当前星球是否保留。\n",
    ">\n",
    ">4.时间复杂度：每个星球最多入栈和出栈一次，时间复杂度为O(n)。"
   ]
  },
  {
   "cell_type": "code",
   "execution_count": 3,
   "metadata": {},
   "outputs": [
    {
     "name": "stdout",
     "output_type": "stream",
     "text": [
      "[-3, -6, 2, 8, 9, 1]\n",
      "[23, 22]\n"
     ]
    }
   ],
   "source": [
    "# add your idea here\n",
    "# your algorithm time complexity is:O(n)\n",
    "def asteroidCollision(asteroids):\n",
    "    stack = []\n",
    "    for a in asteroids:\n",
    "        while stack and stack[-1] > 0 and a < 0:\n",
    "            top = stack[-1]\n",
    "            if top > -a:        \n",
    "                a = None\n",
    "                break\n",
    "            elif top < -a:      \n",
    "                stack.pop()\n",
    "            else:               \n",
    "                a = None\n",
    "                break\n",
    "        if a is not None:\n",
    "            stack.append(a)\n",
    "    return stack\n",
    "if __name__ == \"__main__\":\n",
    "    a1 = [-3, -6, 2, 8, 5, -8, 9, -2, 1]\n",
    "    a2 = [23, -8, 9, -3, -7, 9, -23, 22]\n",
    "    resulta1 = asteroidCollision(a1)\n",
    "    resulta2 = asteroidCollision(a2)\n",
    "    print(resulta1)\n",
    "    print(resulta2)"
   ]
  },
  {
   "cell_type": "markdown",
   "metadata": {},
   "source": [
    "## 问题 5 \n",
    "\n",
    "> 给定一个无序数组nums=[9,-3,-10,0,9,7,33]，请建立一个二叉搜索树存储数组中的所有元素，之后删除二叉树中的元素“0”，再使用中序遍历输出二叉搜索树中的所有元素。\n",
    "\n",
    "使用python编程完成上述任务，并计算时间复杂度\n"
   ]
  },
  {
   "cell_type": "markdown",
   "metadata": {},
   "source": [
    "idea\n",
    ">1.构建二叉搜索树：\n",
    ">遍历数组元素，按BST规则插入节点。重复元素插入到右子树。\n",
    ">\n",
    ">2.删除节点：\n",
    ">找到目标节点，处理其三种可能情况：\n",
    ">\n",
    ">①无子节点：直接删除。\n",
    ">\n",
    ">②一个子节点：用子节点替换自身。\n",
    ">\n",
    ">③两个子节点：用右子树的最小值替换自身，并删除原最小节点。\n",
    ">\n",
    ">3.中序遍历：\n",
    "递归遍历左子树 → 根节点 → 右子树，输出升序排列结果。\n",
    ">\n",
    ">4.时间复杂度：\n",
    "平均情况：插入和删除为 O(nlog n)，中序遍历 O(n)，总复杂度 O(nlogn)。\n",
    "最坏情况（树退化为链表）：复杂度 O(n²)。"
   ]
  },
  {
   "cell_type": "code",
   "execution_count": 4,
   "metadata": {},
   "outputs": [
    {
     "name": "stdout",
     "output_type": "stream",
     "text": [
      "中序遍历结果: [-10, -3, 7, 9, 9, 33]\n"
     ]
    }
   ],
   "source": [
    "# add your idea here\n",
    "# your algorithm time complexity is:时间复杂度为 O(n log n) 平均情况，O(n²) 最坏情况\n",
    "class TreeNode:\n",
    "    def __init__(self, val=0, left=None, right=None):\n",
    "        self.val = val\n",
    "        self.left = left\n",
    "        self.right = right\n",
    "\n",
    "def insert(root, val):\n",
    "    if not root:\n",
    "        return TreeNode(val)\n",
    "    if val < root.val:\n",
    "        root.left = insert(root.left, val)\n",
    "    else:\n",
    "        root.right = insert(root.right, val)\n",
    "    return root\n",
    "\n",
    "def deleteNode(root, key):\n",
    "    if not root:\n",
    "        return root\n",
    "    if key < root.val:\n",
    "        root.left = deleteNode(root.left, key)\n",
    "    elif key > root.val:\n",
    "        root.right = deleteNode(root.right, key)\n",
    "    else:\n",
    "        if not root.left:\n",
    "            return root.right\n",
    "        if not root.right:\n",
    "            return root.left\n",
    "        # 找到右子树的最小节点\n",
    "        temp = root.right\n",
    "        while temp.left:\n",
    "            temp = temp.left\n",
    "        root.val = temp.val\n",
    "        root.right = deleteNode(root.right, temp.val)\n",
    "    return root\n",
    "\n",
    "def inorder(root, res):\n",
    "    if root:\n",
    "        inorder(root.left, res)\n",
    "        res.append(root.val)\n",
    "        inorder(root.right, res)\n",
    "\n",
    "\n",
    "if __name__ ==\"__main__\":\n",
    "    nums = [9, -3, -10, 0, 9, 7, 33]\n",
    "    root = None\n",
    "    for num in nums:\n",
    "        root = insert(root, num)\n",
    "\n",
    "    root = deleteNode(root, 0)\n",
    "\n",
    "    result = []\n",
    "    inorder(root, result)\n",
    "    print(\"中序遍历结果:\", result)"
   ]
  },
  {
   "cell_type": "markdown",
   "metadata": {},
   "source": [
    "## 问题 6  \n",
    "\n",
    "> 给定一个包含大写字母和小写字母的字符串 s ，返回 字符串包含的 **最长的回文子串的长度** 。请注意 区分大小写 。比如 \"Aa\" 不能当做一个回文字符串。\n",
    ">\n",
    "\n",
    "请设计一个算法解决上述问题，只需要输出最长回文子串的长度，分析算法设计思路，计算时间复杂度，并基于python编程实现\n",
    "\n",
    "e.g. 输入： s=\"adccaccd\"，  输出：7。 最长回文子串为：\"dccaccd\", 长度为7\n"
   ]
  },
  {
   "cell_type": "markdown",
   "metadata": {},
   "source": [
    "idea：\n",
    ">中心扩展法：回文串的对称中心可能是一个字符（奇数长度）或两个相邻字符（偶数长度）。遍历每个可能的中心点，向两边扩展，记录能扩展到的最大长度。\n",
    ">\n",
    ">1.遍历所有中心点：对每个字符位置，分别处理奇数和偶数两种情况。\n",
    ">\n",
    ">2.扩展函数：从中心向两侧扩展，直到字符不匹配或越界，返回当前回文长度。\n",
    ">\n",
    ">3.更新最大值：每次扩展后，比较并更新最长回文子串长度。\n",
    ">\n",
    ">4.时间复杂度：O(n²)。每个中心点最多扩展 O(n) 次，共 2n 个中心点（每个字符作为奇数和偶数中心）。"
   ]
  },
  {
   "cell_type": "code",
   "execution_count": 5,
   "metadata": {},
   "outputs": [
    {
     "name": "stdout",
     "output_type": "stream",
     "text": [
      "7\n",
      "12\n"
     ]
    }
   ],
   "source": [
    "# add your idea here\n",
    "# your algorithm time complexity is:O(n²)\n",
    "def longest_palindrome(s: str) -> int:\n",
    "    def expand(l: int, r: int) -> int:\n",
    "        while l >= 0 and r < len(s) and s[l] == s[r]:\n",
    "            l -= 1\n",
    "            r += 1\n",
    "        return r - l - 1 \n",
    "    \n",
    "    max_len = 0\n",
    "    n = len(s)\n",
    "    for i in range(n):\n",
    "        len1 = expand(i, i)\n",
    "        len2 = expand(i, i+1)\n",
    "        current_max = max(len1, len2)\n",
    "        if current_max > max_len:\n",
    "            max_len = current_max\n",
    "    return max_len\n",
    "\n",
    "if __name__ == \"__main__\":\n",
    "    s = \"adccaccd\"\n",
    "    s1 = \"asdasffaaddddaaffkkjk\"\n",
    "    print(longest_palindrome(s)) \n",
    "    print(longest_palindrome(s1))"
   ]
  },
  {
   "cell_type": "markdown",
   "metadata": {},
   "source": [
    "## 问题 7 ：\n",
    "\n",
    "> 沿一条长河流分散着n座房子。你可以把这条河想象成一条轴，房子是由它们在这条轴上的坐标按顺序排列的。你的公司想在河边的特定地点设置手机基站，这样每户人家都在距离基站4公里的范围内。输入可以看作为一个升序数组，数组元素的取值为大于等于0的正整数，你需要输出最小基站的数目，基站的位置。\n",
    "\n",
    "1. 给出一个时间复杂度为$O(n$) 的算法，使所使用的基站数量最小化，分析算法设计思路，使用python编程实现\n",
    "2. 证明1.中算法产生了最优解决方案。\n",
    "\n",
    "e.g. \n",
    "\n",
    "输入： [1, 5, 12, 33, 34,35]  输出：基站数目为3， 基站位置为[1，12，33]\n",
    "\n"
   ]
  },
  {
   "cell_type": "markdown",
   "metadata": {},
   "source": [
    "idea1：\n",
    ">为了用最少的基站覆盖所有房子，我采用贪心算法。核心策略是每次尽可能将基站放置在能覆盖当前未覆盖的最左房子的最远位置，从而覆盖后续尽可能多的房子。具体步骤如下：\n",
    ">\n",
    ">1.遍历房子坐标：从左到右处理每个未被覆盖的房子。\n",
    ">\n",
    ">2.放置基站：对于当前未覆盖的第一个房子，将基站设在其右侧4公里的位置（即h_i + 4），确保该基站的覆盖范围延伸到最远。\n",
    ">\n",
    ">3.跳过已覆盖的房子：继续检查后续房子，直到遇到超出当前基站覆盖范围的房子，重复上述过程。\n",
    ">\n",
    ">4.时间复杂度：每个房子仅被访问一次，时间复杂度为O(n)。"
   ]
  },
  {
   "cell_type": "code",
   "execution_count": 2,
   "metadata": {},
   "outputs": [
    {
     "name": "stdout",
     "output_type": "stream",
     "text": [
      "基站数目为3，基站位置为[5, 16, 37]\n",
      "基站数目为4，基站位置为[5, 19, 36, 49]\n"
     ]
    }
   ],
   "source": [
    "# add your idea here\n",
    "# your algorithm time complexity is:\n",
    "def find_min_bases(houses):\n",
    "    if not houses:\n",
    "        return 0, []\n",
    "    bases = []\n",
    "    n = len(houses)\n",
    "    i = 0\n",
    "    while i < n:\n",
    "        # 当前基站的位置设为当前未覆盖的最左房子 +4\n",
    "        base_pos = houses[i] + 4\n",
    "        bases.append(base_pos)\n",
    "        # 跳过所有被当前基站覆盖的房子\n",
    "        while i < n and houses[i] <= base_pos + 4:\n",
    "            i += 1\n",
    "    return len(bases), bases\n",
    "\n",
    "if __name__ ==\"__main__\":\n",
    "    # 示例输入\n",
    "    houses = [1, 5, 12, 33, 34, 35]\n",
    "    houses1 = [1, 6, 7, 15, 20, 32, 33, 39, 45]\n",
    "    count, positions = find_min_bases(houses)\n",
    "    count1, positions1 = find_min_bases(houses1)\n",
    "    print(f\"基站数目为{count}，基站位置为{positions}\")\n",
    "    print(f\"基站数目为{count1}，基站位置为{positions1}\")"
   ]
  },
  {
   "cell_type": "markdown",
   "metadata": {},
   "source": [
    "idea2:\n",
    ">证明算法最优：\n",
    ">\n",
    ">每次将基站放置在当前未被覆盖的最左房子右侧4公里处（即覆盖范围右边界），可以确保该基站的覆盖范围尽可能向右延伸，从而覆盖后续最多的房子。这种选择是局部最优的，且不会影响后续的全局最优性。假设存在一个最优解，其中某个基站的覆盖范围比贪心算法选择的更靠左。此时，将该基站的位置调整到贪心算法选择的位置（即更靠右），仍然可以覆盖所有原覆盖的房子，且可能覆盖更多后续房子，从而减少总基站数。这与“最优解”矛盾。因此，贪心算法的选择一定包含在某个最优解中。\n"
   ]
  },
  {
   "cell_type": "markdown",
   "metadata": {},
   "source": [
    "## 问题 8  \n",
    "\n",
    "> 给定由n个正整数组成的一个集合$S = \\{a_1, a_2，···，a_n\\}$和一个正整数W，设计一个算法确定是否存在S的一个子集 $K \\subseteq S$, 使K中所有数之和为 $W$, 如果存在返回“True”，否则返回“False”\n",
    "\n",
    "请设计一个时间复杂度为$O(nW)$动态规划算法，解决上述问题，分析算法的设计思路，并且基于python编程实现（不需要输出子集）。\n",
    "\n",
    "e.g. \n",
    "\n",
    "输入：S = {1,4,7,3,5}， W = 11，输出：True。   因为K可以是{4,7}。\n",
    "\n"
   ]
  },
  {
   "cell_type": "markdown",
   "metadata": {},
   "source": [
    "idea：\n",
    ">该问题属于0-1背包的变种。我们需要判断是否存在一个子集，其元素和恰好等于目标值W。\n",
    ">\n",
    ">核心思路：\n",
    ">\n",
    ">1.状态定义：dp[w]表示是否存在子集使得和为 w。\n",
    ">\n",
    ">2.初始化：dp[0] = True（空集和为0），其余为False。\n",
    ">\n",
    ">3.状态转移：对于每个数字num，从后往前遍历W到num，若dp[w-num] 为真，则 dp[w] 也为真。\n",
    ">\n",
    ">4.提前优化：若集合中存在元素等于 W 或总和不足 W，可提前返回结果。"
   ]
  },
  {
   "cell_type": "code",
   "execution_count": 9,
   "metadata": {},
   "outputs": [
    {
     "name": "stdout",
     "output_type": "stream",
     "text": [
      "True\n",
      "True\n",
      "False\n",
      "False\n"
     ]
    }
   ],
   "source": [
    "# add your idea here\n",
    "# your algorithm time complexity is: O(nW)\n",
    "def subset_sum(S, W):\n",
    "    if W == 0:\n",
    "        return True\n",
    "    total = sum(S)\n",
    "    if total < W:\n",
    "        return False\n",
    "    \n",
    "    valid_nums = []\n",
    "    \n",
    "    for num in S:\n",
    "        if num == W:\n",
    "            return True\n",
    "        elif num < W:\n",
    "            valid_nums.append(num)\n",
    "    \n",
    "    if not valid_nums or sum(valid_nums) < W:\n",
    "        return False\n",
    "    \n",
    "    dp = [False] * (W + 1)\n",
    "    dp[0] = True \n",
    "    \n",
    "    for num in valid_nums:\n",
    "        for w in range(W, num - 1, -1):\n",
    "            if dp[w - num]:\n",
    "                dp[w] = True\n",
    "        if dp[W]:\n",
    "            return True\n",
    "    \n",
    "    return dp[W]\n",
    "\n",
    "if __name__ == \"__main__\":\n",
    "    S = {1, 4, 7, 3, 5}\n",
    "    W = 11\n",
    "    W1 = 20\n",
    "    W2 = 21\n",
    "    print(subset_sum(S, W)) # 输出: True\n",
    "    print(subset_sum(S, W1))# 输出: True\n",
    "    print(subset_sum(S, W2))# 输出: False\n",
    "    print(subset_sum(S, 18))# 输出: False"
   ]
  },
  {
   "cell_type": "markdown",
   "metadata": {},
   "source": [
    "\n",
    "\n",
    "## 问题 9 \n",
    "\n",
    "> 给定一个n个物品的集合。物体的重量为$w_1, w_2，…、w_n$，物品的价值分别是$v_1、v_2、…v_n$。给你**两个**重量为 $c$ 的背包。如果你带了一个东西，它可以放在一个背包里，也可以放在另一个背包里，但不能同时放在两个背包里。所有权重和价值都是正整数。\n",
    "\n",
    "1. 设计一个时间复杂度为 $O(nc^2)$ 的动态规划算法，确定可以放入两个背包的物体的最大价值。分析算法设计思路，并基于python编程实现\n",
    "2. \\* 修改1中的算法，输出每个背包的内容（物品对应下标）。\n",
    "\n",
    "e.g.: \n",
    "\n",
    "输入 V=[1,3,2,5,8,7], W=[1,3,2,5,8,7], c=7, 输出：最大价值=14，背包装的物品为：[6] [4，3] （同一个背包中物品装入顺序对结果无影响）  \n"
   ]
  },
  {
   "cell_type": "markdown",
   "metadata": {},
   "source": [
    "idea(参考了大模型的思路)：\n",
    ">1.动态规划状态定义：使用一个二维数组 dp[a][b]，其中 a 表示第一个背包的当前容量，b 表示第二个背包的当前容量，dp[a][b] 表示在这两个容量下的最大价值。\n",
    ">\n",
    ">2.状态转移：对于每个物品，我们有三个选择：不放入任何背包、放入第一个背包或放入第二个背包。状态转移方程如下：\n",
    "如果不放入，则状态保持不变。\n",
    "如果放入第一个背包且容量足够，则更新对应状态。\n",
    "如果放入第二个背包且容量足够，则更新对应状态。"
   ]
  },
  {
   "cell_type": "code",
   "execution_count": 3,
   "metadata": {},
   "outputs": [
    {
     "name": "stdout",
     "output_type": "stream",
     "text": [
      "最大价值 = 14\n"
     ]
    }
   ],
   "source": [
    "\n",
    "# add your idea here\n",
    "# your algorithm time complexity is: O(nc^2)\n",
    "def two_backpack_max_value(V, W, c):\n",
    "    n = len(V)\n",
    "    # 初始化dp数组，dp[a][b]表示第一个背包使用a容量，第二个使用b容量时的最大价值\n",
    "    dp = [[-1 for _ in range(c+1)] for _ in range(c+1)]\n",
    "    dp[0][0] = 0  # 初始状态，没有物品时价值为0\n",
    "    \n",
    "    for i in range(n):\n",
    "        w = W[i]\n",
    "        v = V[i]\n",
    "        # 创建新的dp数组的副本，避免覆盖当前状态\n",
    "        new_dp = [row[:] for row in dp]\n",
    "        # 遍历所有可能的背包容量组合\n",
    "        for a in range(c+1):\n",
    "            for b in range(c+1):\n",
    "                if dp[a][b] != -1:  # 当前状态可达\n",
    "                    # 尝试将物品放入第一个背包\n",
    "                    if a + w <= c:\n",
    "                        if new_dp[a + w][b] < dp[a][b] + v:\n",
    "                            new_dp[a + w][b] = dp[a][b] + v\n",
    "                    # 尝试将物品放入第二个背包\n",
    "                    if b + w <= c:\n",
    "                        if new_dp[a][b + w] < dp[a][b] + v:\n",
    "                            new_dp[a][b + w] = dp[a][b] + v\n",
    "        # 更新dp数组\n",
    "        dp = new_dp\n",
    "    \n",
    "    # 寻找最大价值及其对应的背包容量分配\n",
    "    max_val = 0\n",
    "    best_a, best_b = 0, 0\n",
    "    for a in range(c+1):\n",
    "        for b in range(c+1):\n",
    "            if dp[a][b] > max_val:\n",
    "                max_val = dp[a][b]\n",
    "                best_a = a\n",
    "                best_b = b\n",
    "    return max_val\n",
    "\n",
    "if __name__ ==\"__main__\":\n",
    "    # 示例输入\n",
    "    V = [1, 3, 2, 5, 8, 7]\n",
    "    W = [1, 3, 2, 5, 8, 7]\n",
    "    c = 7\n",
    "    max_val = two_backpack_max_value(V, W, c)\n",
    "    print(f\"最大价值 = {max_val}\")"
   ]
  },
  {
   "cell_type": "markdown",
   "metadata": {},
   "source": [
    "## 问题 10 \n",
    "\n",
    "> 给定两个字符串 $x[1..n]$ 和 $y[1..m]$，我们想通过以下操作将 $x$ 变换为 $y$ :\n",
    ">\n",
    "> **插入**：在 $x$ 中插入一个字符(在任何位置)；**删除**：从 $x$ 中删除一个字符(在任何位置)； **替换**：用另一个字符替换 $x$ 中的一个字符。\n",
    ">\n",
    "> 例如: $x = abcd$, $y = bcfe$，\n",
    ">\n",
    "> - 将 $x$ 转换为 $y$ 的一种可能方法是：1. 删除 $x$ 开头的 $a$, $x$变成 $bcd$； 2. 将 $x$ 中的字符 $d$ 替换为字符 $f$。$x$ 变成 $bcf$； 3. 在 $x$ 的末尾插入字符 $e$。$x$ 变成 $bcfe$。\n",
    ">\n",
    "> - 另一种可能的方法：1. 删除 $x$ 开头的 $a$,  $x$ 变成 $bcd$； 2. 在 $x$ 中字符 $d$ 之前插入字符 $f$。$x$ 变成 $bcfd$。3. 将 $x$ 中的字符 $d$ 替换为字符 $e$。$x$ 变成 $bcfe$。\n",
    "\n",
    "设计一个时间复杂度为 $O(mn)$ 的算法，返回将 $x$ 转换为 $y$ 所需的最少操作次数。分析算法设计思路，并基于python编程实现。\n"
   ]
  },
  {
   "cell_type": "markdown",
   "metadata": {},
   "source": [
    "idea：\n",
    "动态规划思路：\n",
    "1.定义状态：dp[i][j] 表示将字符串 x[0..i-1] 转换为 y[0..j-1] 所需的最小操作次数。\n",
    "2.初始条件：\n",
    "    当 i=0 时，只能插入 j 次：dp[0][j] = j。\n",
    "    当 j=0 时，只能删除 i 次：dp[i][0] = i。\n",
    "3.状态转移：\n",
    "    若 x[i-1] == y[j-1]，直接继承前一状态：dp[i][j] = dp[i-1][j-1]。\n",
    "否则，取以下三种操作的最小值并加 1：\n",
    "    替换：dp[i-1][j-1] + 1（替换 x[i-1] 为 y[j-1]）。\n",
    "    删除：dp[i-1][j] + 1（删除 x[i-1]）。\n",
    "    插入：dp[i][j-1] + 1（在 x 中插入 y[j-1]）。"
   ]
  },
  {
   "cell_type": "code",
   "execution_count": 2,
   "metadata": {},
   "outputs": [
    {
     "name": "stdout",
     "output_type": "stream",
     "text": [
      "3\n"
     ]
    }
   ],
   "source": [
    "# add your idea here\n",
    "# your algorithm time complexity is: O(mn)\n",
    "def min_edit_distance(x: str, y: str) -> int:\n",
    "    m, n = len(x), len(y)\n",
    "    # 初始化 (m+1) x (n+1) 的 DP 表\n",
    "    dp = [[0] * (n+1) for _ in range(m+1)]\n",
    "    \n",
    "    # 填充初始条件\n",
    "    for i in range(m+1):\n",
    "        dp[i][0] = i\n",
    "    for j in range(n+1):\n",
    "        dp[0][j] = j\n",
    "    \n",
    "    # 动态规划填表\n",
    "    for i in range(1, m+1):\n",
    "        for j in range(1, n+1):\n",
    "            if x[i-1] == y[j-1]:\n",
    "                dp[i][j] = dp[i-1][j-1]\n",
    "            else:\n",
    "                replace = dp[i-1][j-1] + 1\n",
    "                delete = dp[i-1][j] + 1\n",
    "                insert = dp[i][j-1] + 1\n",
    "                dp[i][j] = min(replace, delete, insert)\n",
    "    \n",
    "    return dp[m][n]\n",
    "if __name__ == \"__main__\":\n",
    "    x = \"abcd\"\n",
    "    y = \"bcfe\"\n",
    "    print(min_edit_distance(x, y))  # 输出 3"
   ]
  },
  {
   "cell_type": "code",
   "execution_count": null,
   "metadata": {},
   "outputs": [],
   "source": []
  }
 ],
 "metadata": {
  "kernelspec": {
   "display_name": "Python 3 (ipykernel)",
   "language": "python",
   "name": "python3"
  },
  "language_info": {
   "codemirror_mode": {
    "name": "ipython",
    "version": 3
   },
   "file_extension": ".py",
   "mimetype": "text/x-python",
   "name": "python",
   "nbconvert_exporter": "python",
   "pygments_lexer": "ipython3",
   "version": "3.10.16"
  }
 },
 "nbformat": 4,
 "nbformat_minor": 4
}
