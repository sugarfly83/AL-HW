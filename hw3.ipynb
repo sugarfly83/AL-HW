{
 "cells": [
  {
   "cell_type": "markdown",
   "metadata": {},
   "source": [
    "## algorithm design and anlysis-2025 spring  homework 3\n",
    "**Deadline**：2025.5.14\n",
    "\n",
    "**name**:唐飞\n",
    "\n",
    "\n",
    "note：\n",
    "---\n",
    "1. 带有\\*的题目，申请免上课的同学，必须完成，其他同学选作；\n",
    "2. 请独立完成，如求助了他人或者大模型，请著明，并且不可省略算法分析部分；\n",
    "4. 如若作答有雷同，全部取消成绩；\n",
    "3. 需要书面作答的题目，可以通过引用图片的形式添加，但是注意上传项目时包含所引用的图片的源文件；\n",
    "4. $log_n$ 默认表示$log_2{n}$;"
   ]
  },
  {
   "cell_type": "markdown",
   "metadata": {},
   "source": [
    "## 问题 1  \n",
    "\n",
    "请证明基于比较的排序算法计算复杂度下界为$\\Omega(nlogn)$"
   ]
  },
  {
   "cell_type": "markdown",
   "metadata": {},
   "source": [
    "![hw3a1](fig/hw3a1.jpg) "
   ]
  },
  {
   "cell_type": "markdown",
   "metadata": {},
   "source": [
    "## 问题 2 \n",
    "\n",
    "构建二叉搜索树\n",
    "\n",
    "> 1. 给定一个数组 [48, 33, 49, 47, 42, 46, 32], 构建一个二叉搜索树存储这些数据，请**绘制**所构建的**二叉搜索树**（标明结点的值）。\n",
    "> 2. 从第1问的二叉搜索树中删除33，请**绘制**删除33后的**二叉搜索树**（标明结点的值）\n",
    "\n",
    "- 推荐使用graphviz包绘制树的结构"
   ]
  },
  {
   "cell_type": "code",
   "execution_count": 2,
   "metadata": {},
   "outputs": [
    {
     "name": "stdout",
     "output_type": "stream",
     "text": [
      "Collecting graphviz\n",
      "  Using cached graphviz-0.20.3-py3-none-any.whl.metadata (12 kB)\n",
      "Using cached graphviz-0.20.3-py3-none-any.whl (47 kB)\n",
      "Installing collected packages: graphviz\n",
      "Successfully installed graphviz-0.20.3\n",
      "Note: you may need to restart the kernel to use updated packages.\n"
     ]
    }
   ],
   "source": [
    "pip install graphviz"
   ]
  },
  {
   "cell_type": "code",
   "execution_count": 4,
   "metadata": {},
   "outputs": [
    {
     "data": {
      "text/plain": [
       "'bst_insert.gv.pdf'"
      ]
     },
     "execution_count": 4,
     "metadata": {},
     "output_type": "execute_result"
    }
   ],
   "source": [
    "from graphviz import Digraph\n",
    "import os\n",
    "\n",
    "dot = Digraph()\n",
    "dot.attr(rankdir='TB', size='8,5')  \n",
    "os.environ[\"PATH\"] += os.pathsep + r'C:\\Program Files\\Graphviz\\bin'\n",
    "\n",
    "nodes = [48, 33, 49, 47, 42, 46, 32]\n",
    "for n in nodes:\n",
    "    dot.node(str(n))\n",
    "\n",
    "\n",
    "dot.edge('48', '33')   \n",
    "dot.edge('48', '49')   \n",
    "dot.edge('33', '32')   \n",
    "dot.edge('33', '47')   \n",
    "dot.edge('47', '42')   \n",
    "dot.edge('42', '46')   \n",
    "\n",
    "\n",
    "dot.render('bst_insert.gv', view=True)"
   ]
  },
  {
   "cell_type": "code",
   "execution_count": 5,
   "metadata": {},
   "outputs": [
    {
     "data": {
      "text/plain": [
       "'bst_delete.gv.pdf'"
      ]
     },
     "execution_count": 5,
     "metadata": {},
     "output_type": "execute_result"
    }
   ],
   "source": [
    "\n",
    "dot_delete = Digraph()\n",
    "dot_delete.attr(rankdir='TB', size='8,5')\n",
    "\n",
    "\n",
    "nodes_delete = [48, 42, 49, 32, 47, 46]\n",
    "for n in nodes_delete:\n",
    "    dot_delete.node(str(n))\n",
    "\n",
    "\n",
    "dot_delete.edge('48', '42') \n",
    "dot_delete.edge('48', '49')  \n",
    "dot_delete.edge('42', '32') \n",
    "dot_delete.edge('42', '47')   \n",
    "dot_delete.edge('47', '46')  \n",
    "\n",
    "\n",
    "dot_delete.render('bst_delete.gv', view=True)"
   ]
  },
  {
   "cell_type": "markdown",
   "metadata": {},
   "source": [
    "1.\n",
    "![hw3a2](fig/hw3a2.png) "
   ]
  },
  {
   "cell_type": "markdown",
   "metadata": {},
   "source": [
    "2.\n",
    "![hw3a2(2)](fig/hw3a2(2).png) "
   ]
  },
  {
   "cell_type": "markdown",
   "metadata": {},
   "source": [
    "## 问题 3 \n",
    "\n",
    "> 下面是九门课程的开始和结束时间:\n",
    ">\n",
    "> [(9:00,12:30), (11:00,14:00), (13:00, 14:30), (9:00,10:30),(13:00, 14:30),(14:00,16:30), (15:00,16:30), (15:00,16:30), (9:00,10:30)]\n",
    ">\n",
    "> 请使用贪婪算法为这九门课分配教室，要求在同一天内安排这些课，并且每个教室同一时间只能安排一门课。\n",
    "\n",
    "**请问最少需要几间教室，罗列出每个教室安排的课程**"
   ]
  },
  {
   "cell_type": "markdown",
   "metadata": {},
   "source": [
    "idea：\n",
    ">1.按开始时间排序课程，确保按时间顺序处理。\n",
    ">2.贪心策略：每次选择最早可用的教室（比较当前课程开始时间与教室的最近结束时间）。\n",
    ">3.冲突处理：当某时间点有4门课程同时进行（如15:00-16:30的课程6、7、8、9），必须分配第4个教室。"
   ]
  },
  {
   "cell_type": "markdown",
   "metadata": {
    "vscode": {
     "languageId": "plaintext"
    }
   },
   "source": [
    "code：\n",
    ">教室1：[课程4（9:00-10:30）] → [课程2（11:00-14:00）] → [课程6（14:00-16:30）]  \n",
    "教室2：[课程1（9:00-12:30）] → [课程3（13:00-14:30）] → [课程7（15:00-16:30）]  \n",
    "教室3：[课程5（13:00-14:30）] → [课程8（15:00-16:30）]  \n",
    "教室4：[课程9（15:00-16:30）]"
   ]
  },
  {
   "cell_type": "markdown",
   "metadata": {},
   "source": [
    "## 问题 4 \n",
    "\n",
    "> 爬楼梯问题：假设爬楼梯时你每次只能爬一阶或者爬两阶，问爬上n阶的楼梯，你一共有多少种方法\n",
    "\n",
    "请设计算法完成该问题，分析算法设计思路，计算时间复杂度，并基于python编程实现"
   ]
  },
  {
   "cell_type": "markdown",
   "metadata": {},
   "source": [
    "idea：\n",
    "\n",
    "方法 1：递归法（暴力解法）\n",
    "直接根据递推公式 f(n) = f(n-1) + f(n-2) 递归求解，但会重复计算大量子问题。\n",
    "递归终止条件：\n",
    "当 n = 1 时，只有 1 种方法（爬 1 阶）\n",
    "当 n = 2 时，有 2 种方法（爬 1+1 或直接 2 阶）\n",
    "\n",
    "方法 2：动态规划（自底向上）\n",
    "使用数组 dp 存储中间结果，避免重复计算：\n",
    "dp[i] 表示爬到第 i 阶楼梯的方法总数。\n",
    "状态转移方程：dp[i] = dp[i-1] + dp[i-2]\n",
    "初始条件：dp[1] = 1, dp[2] = 2\n",
    "\n",
    "方法 3：动态规划（空间优化）\n",
    "观察到 dp[i] 只依赖前两个状态 dp[i-1] 和 dp[i-2]，因此可以用两个变量滚动更新，将空间复杂度优化到 O(1)。\n",
    "定义变量 a 和 b，分别表示 dp[i-2] 和 dp[i-1]。\n",
    "每次迭代更新：a, b = b, a + b"
   ]
  },
  {
   "cell_type": "code",
   "execution_count": 4,
   "metadata": {},
   "outputs": [
    {
     "name": "stdout",
     "output_type": "stream",
     "text": [
      "1\n",
      "3\n",
      "8\n"
     ]
    }
   ],
   "source": [
    "# add your code here  Method1\n",
    "# your algorithm time complexity is: O(2ⁿ)\n",
    "def climb_stairs(n: int) -> int:\n",
    "    if n <= 0:\n",
    "        return 0\n",
    "    a, b = 1, 1\n",
    "    for _ in range(n-1):\n",
    "        a, b = b, a + b\n",
    "    return b\n",
    "\n",
    "if __name__ ==\"__main__\":\n",
    "    print(climb_stairs(1))  # 输出: 1\n",
    "    print(climb_stairs(3))  # 输出: 3\n",
    "    print(climb_stairs(5))  # 输出: 8"
   ]
  },
  {
   "cell_type": "code",
   "execution_count": 5,
   "metadata": {},
   "outputs": [
    {
     "name": "stdout",
     "output_type": "stream",
     "text": [
      "1\n",
      "3\n",
      "8\n"
     ]
    }
   ],
   "source": [
    "# add your code here Method2\n",
    "# your algorithm time complexity is: O(n)\n",
    "def climb_stairs_dp(n: int) -> int:\n",
    "    if n <= 0:\n",
    "        return 0\n",
    "    if n == 1:\n",
    "        return 1\n",
    "    dp = [0] * (n + 1)\n",
    "    dp[1], dp[2] = 1, 2\n",
    "    for i in range(3, n + 1):\n",
    "        dp[i] = dp[i-1] + dp[i-2]\n",
    "    return dp[n]\n",
    "\n",
    "if __name__ ==\"__main__\":\n",
    "    print(climb_stairs(1))  # 输出: 1\n",
    "    print(climb_stairs(3))  # 输出: 3\n",
    "    print(climb_stairs(5))  # 输出: 8"
   ]
  },
  {
   "cell_type": "code",
   "execution_count": 6,
   "metadata": {},
   "outputs": [
    {
     "name": "stdout",
     "output_type": "stream",
     "text": [
      "1\n",
      "3\n",
      "8\n"
     ]
    }
   ],
   "source": [
    "# add your code here Method3\n",
    "# your algorithm time complexity is: O(n)\n",
    "def climb_stairs_optimized(n: int) -> int:\n",
    "    if n <= 0:\n",
    "        return 0\n",
    "    a, b = 1, 1  # 初始状态对应 n=1 和 n=2\n",
    "    for _ in range(n-1):\n",
    "        a, b = b, a + b\n",
    "    return b\n",
    "    \n",
    "if __name__ ==\"__main__\":\n",
    "    print(climb_stairs(1))  # 输出: 1\n",
    "    print(climb_stairs(3))  # 输出: 3\n",
    "    print(climb_stairs(5))  # 输出: 8"
   ]
  },
  {
   "cell_type": "markdown",
   "metadata": {},
   "source": [
    "## 问题 5 \n",
    "\n",
    "> 0-1背包问题：现在有4块大理石，每个大理石对应的重量和价值使用一个元组表示, 即（重量，价值），4块大理石的重量和价值为：[(5,10), (4,40), (6,30), (3, 50)], 假设你有一辆最大承重为9的小推车，请问使用这个小推车装大理石的最大价值为多少\n",
    "\n",
    "请设计一个算法解决该问题，分析算法设计思路，计算时间复杂度，并基于python编程实现"
   ]
  },
  {
   "cell_type": "markdown",
   "metadata": {},
   "source": [
    "idea：\n",
    "\n",
    "使用动态规划来解决0-1背包问题。\n",
    "我使用一个一维数组dp，其中dp[j]表示在承重不超过j时能获得的最大价值。对于每个物品，我从后往前更新dp数组，确保每个物品只被考虑一次。具体步骤如下：\n",
    "\n",
    "1.初始化一个一维数组dp，长度为最大承重加1，初始值为0。\n",
    "\n",
    "2.遍历每个物品，逆序更新dp数组，确保每个承重只被处理一次。\n",
    "\n",
    "3.返回dp数组的最后一个元素，即最大承重下的最大价值。"
   ]
  },
  {
   "cell_type": "code",
   "execution_count": 1,
   "metadata": {},
   "outputs": [
    {
     "name": "stdout",
     "output_type": "stream",
     "text": [
      "最大价值为: 90\n"
     ]
    }
   ],
   "source": [
    "# add your code here\n",
    "# your algorithm time complexity is:O(nW)\n",
    "def knapsack(items, max_weight):\n",
    "    dp = [0] * (max_weight + 1)\n",
    "    for weight, value in items:\n",
    "        for j in range(max_weight, weight - 1, -1):\n",
    "            dp[j] = max(dp[j], dp[j - weight] + value)\n",
    "    return dp[max_weight]\n",
    "\n",
    "if __name__ ==\"__main__\":\n",
    "    items = [(5, 10), (4, 40), (6, 30), (3, 50)]\n",
    "    max_weight = 9\n",
    "    print(\"最大价值为:\", knapsack(items, max_weight))"
   ]
  },
  {
   "cell_type": "markdown",
   "metadata": {},
   "source": [
    "## 问题 6 \n",
    "给定 `n` 个非负整数表示每个宽度为 `1` 的柱子的高度图，计算按此排列的柱子，下雨之后能接多少雨水。\n",
    "\n",
    "\n",
    "\n",
    "<div style=\"text-align:center;width:800px;\"> <img alt=\"\" src=\"./fig/hw3q6.png\"> </div>\n",
    "\n",
    "请分析算法设计思路，计算时间复杂度，并基于python编程实现"
   ]
  },
  {
   "cell_type": "markdown",
   "metadata": {},
   "source": [
    "idea：\n",
    "双指针法：\n",
    "\n",
    "    1.初始化指针：使用左右指针 left 和 right 分别指向数组的起始和末尾。\n",
    "    \n",
    "    2.维护最大值：用 left_max 和 right_max 分别记录左右两侧遍历过程中遇到的最大高度。\n",
    "    \n",
    "    3.移动策略：比较当前左右指针指向的高度，移动较小高度的指针（因为当前装水量由较小的一侧决定）。\n",
    "    \n",
    "    4.计算水量：若当前高度小于对应侧的最大高度，说明该位置可以蓄水，累加蓄水量；否则更新最大高度。\n",
    "    \n",
    "    5.终止条件：当左右指针相遇时结束遍历。"
   ]
  },
  {
   "cell_type": "code",
   "execution_count": 2,
   "metadata": {},
   "outputs": [
    {
     "name": "stdout",
     "output_type": "stream",
     "text": [
      "6\n",
      "9\n"
     ]
    }
   ],
   "source": [
    "# add your code here\n",
    "# your algorithm time complexity is:O(n)\n",
    "def trap(height):\n",
    "    if not height:\n",
    "        return 0\n",
    "    left, right = 0, len(height) - 1\n",
    "    left_max = right_max = 0\n",
    "    total_water = 0\n",
    "    \n",
    "    while left <= right:\n",
    "        if height[left] < height[right]:\n",
    "            if height[left] >= left_max:\n",
    "                left_max = height[left]\n",
    "            else:\n",
    "                total_water += left_max - height[left]\n",
    "            left += 1\n",
    "        else:\n",
    "            if height[right] >= right_max:\n",
    "                right_max = height[right]\n",
    "            else:\n",
    "                total_water += right_max - height[right]\n",
    "            right -= 1\n",
    "    return total_water\n",
    "    \n",
    "if __name__ ==\"__main__\":\n",
    "    print(trap([0,1,0,2,1,0,1,3,2,1,2,1])) \n",
    "    print(trap([4,2,0,3,2,5]))            "
   ]
  },
  {
   "cell_type": "markdown",
   "metadata": {},
   "source": [
    "## 问题 7 \n",
    "\n",
    "**股票投资组合优化**： 假设你是一位投资者，想要在不同的股票中分配你的资金，以最大化你的投资回报。每只股票都有不同的预期收益率和风险。你的目标是选择一些股票，使得总投资金额不超过你的预算，并且预期收益最大化。\n",
    "\n",
    "在这个情况下，你可以将每只股票视为一个“物品”，其重量为投资金额，价值为预期收益率。然后，你可以使用分级背包问题的方法来选择部分股票，以便在预算内获得最大的预期收益。\n",
    "\n",
    "以下是一个简化的例子：\n",
    "\n",
    "假设你有以下三只股票可供选择：\n",
    "\n",
    "1. 股票 A：投资金额 5000 美元，预期收益率 10%\n",
    "2. 股票 B：投资金额 3000 美元，预期收益率 8%\n",
    "3. 股票 C：投资金额 2000 美元，预期收益率 12%\n",
    "\n",
    "请设计算法找到最优投资方案，分析算法设计思路，计算时间复杂度，并基于python编程实现"
   ]
  },
  {
   "cell_type": "markdown",
   "metadata": {},
   "source": [
    "idea（参考大模型思路）：\n",
    "本问题可转化为经典的0-1背包问题，具体设计如下：\n",
    "\n",
    "1.问题转换：将股票视为物品，投资金额为物品重量，股票收益（投资金额×预期收益率）为物品价值。目标是在总重量（总投资额）不超过预算时，最大化总价值（总收益）。\n",
    "\n",
    "2.动态规划：使用一维数组dp[w]表示总重量不超过w时的最大收益。状态转移方程为：\n",
    "dp[w] = max(dp[w], dp[w - weight] + value)\n",
    "\n",
    "3.回溯选股：通过维护prev数组记录每个总重量下的最后选择，逆向推导出被选中的股票。\n",
    "\n",
    "4.时间复杂度：O(nW)，n为股票数量，W为预算金额。"
   ]
  },
  {
   "cell_type": "code",
   "execution_count": 3,
   "metadata": {},
   "outputs": [
    {
     "name": "stdout",
     "output_type": "stream",
     "text": [
      "最优投资方案：\n",
      "    股票A: 投资金额5000美元，收益500.0美元\n",
      "    股票B: 投资金额3000美元，收益240.0美元\n",
      "总投入: 8000美元，总收益: 740.0美元\n"
     ]
    }
   ],
   "source": [
    "# add your code here\n",
    "# your algorithm time complexity is:\n",
    "def stock_investment_optimization(stocks, budget):\n",
    "    # 提取股票名称、金额和计算实际收益（金额×收益率）\n",
    "    names = [s[\"name\"] for s in stocks]\n",
    "    weights = [s[\"amount\"] for s in stocks]\n",
    "    values = [s[\"amount\"] * s[\"rate\"] for s in stocks]\n",
    "    n = len(stocks)\n",
    "    \n",
    "    # 初始化动态规划数组和路径回溯数组\n",
    "    dp = [0] * (budget + 1)\n",
    "    prev = [-1] * (budget + 1)\n",
    "    \n",
    "    # 动态规划填表\n",
    "    for i in range(n):\n",
    "        weight = weights[i]\n",
    "        value = values[i]\n",
    "        for w in range(budget, weight - 1, -1):\n",
    "            if dp[w - weight] + value > dp[w]:\n",
    "                dp[w] = dp[w - weight] + value\n",
    "                prev[w] = i  # 记录最后选择的股票\n",
    "    \n",
    "    # 回溯选中的股票\n",
    "    current_weight = budget\n",
    "    selected_indices = []\n",
    "    while current_weight > 0 and prev[current_weight] != -1:\n",
    "        selected_index = prev[current_weight]\n",
    "        selected_indices.append(selected_index)\n",
    "        current_weight -= weights[selected_index]\n",
    "    \n",
    "    # 转换为股票名称并去重（避免同一股票多次选择）\n",
    "    selected = []\n",
    "    unique_indices = list(set(selected_indices))  # 去重\n",
    "    for idx in unique_indices:\n",
    "        selected.append({\n",
    "            \"name\": names[idx],\n",
    "            \"amount\": weights[idx],\n",
    "            \"return\": values[idx]\n",
    "        })\n",
    "    \n",
    "    # 计算总投资和总收益\n",
    "    total_invest = sum(weights[idx] for idx in unique_indices)\n",
    "    total_return = dp[budget]\n",
    "    \n",
    "    return {\n",
    "        \"selected_stocks\": selected,\n",
    "        \"total_investment\": total_invest,\n",
    "        \"total_return\": total_return\n",
    "    }\n",
    "\n",
    "if __name__ ==\"__main__\":\n",
    "    # 示例输入\n",
    "    stocks = [\n",
    "        {\"name\": \"A\", \"amount\": 5000, \"rate\": 0.10},\n",
    "        {\"name\": \"B\", \"amount\": 3000, \"rate\": 0.08},\n",
    "        {\"name\": \"C\", \"amount\": 2000, \"rate\": 0.12}\n",
    "    ]\n",
    "    budget = 8000  # 预算\n",
    "\n",
    "    result = stock_investment_optimization(stocks, budget)\n",
    "\n",
    "    # 输出结果\n",
    "    print(\"最优投资方案：\")\n",
    "    for stock in result[\"selected_stocks\"]:\n",
    "        print(f\"    股票{stock['name']}: 投资金额{stock['amount']}美元，收益{stock['return']}美元\")\n",
    "    print(f\"总投入: {result['total_investment']}美元，总收益: {result['total_return']}美元\")"
   ]
  },
  {
   "cell_type": "markdown",
   "metadata": {},
   "source": [
    "## 问题 8\n",
    "\n",
    "给你二叉搜索树的根节点 root ，该树中的恰好两个节点的值被错误地交换。请在不改变其结构的情况下，恢复这棵树 。设计算法解决该问题，分析算法设计思路，计算时间复杂度，并基于python编程实现\n",
    "\n",
    "e.g.:\n",
    "---\n",
    "1.\n",
    "\n",
    "<div style=\"text-align:center;width:200px;\"> <img alt=\"\" src=\"./fig/hw3q9-1.jpg\"> </div>\n",
    "输入：root = [1,3,null,null,2]， 输出为：[3,1,null,null,2]， \n",
    "\n",
    "解释：3 不能是 1 的左孩子，因为 3 > 1 。交换 1 和 3 使二叉搜索树有效。\n",
    "\n",
    "2.\n",
    "\n",
    " <div style=\"text-align:center;width:200px;\"> <img alt=\"\" src=\"./fig/hw3q9-1.jpg\"> </div>\n",
    "输入： root=[3,1,4,null,null,2]， 输出为：[2,1,4,null,null,3]\n",
    "\n",
    "解释：2 不能在 3 的右子树中，因为 2 < 3 。交换 2 和 3 使二叉搜索树有效。"
   ]
  },
  {
   "cell_type": "markdown",
   "metadata": {},
   "source": [
    "idea(参考大模型思路)：\n",
    "\n",
    "1.中序遍历定位错误节点：利用二叉搜索树中序遍历结果应为递增序列的特性，找出违反递增规则的两个节点。\n",
    "\n",
    "2.双指针标记错误位置：使用prev指针记录前驱节点，当发现prev.val >= current.val时：\n",
    "首次出现时标记第一个错误节点first\n",
    "无论是否首次，都更新第二个错误节点second\n",
    "\n",
    "3.交换节点值恢复BST：遍历结束后交换两个错误节点的值即可恢复BST性质。\n",
    "\n",
    "4.时间复杂度:时间复杂度为O(n)，需要遍历所有节点一次。空间复杂度为O(h)，递归栈的深度为树的高度。"
   ]
  },
  {
   "cell_type": "code",
   "execution_count": 4,
   "metadata": {},
   "outputs": [
    {
     "name": "stdout",
     "output_type": "stream",
     "text": [
      "[3, 1, None, None, 2]\n",
      "[2, 1, 4, None, None, 3]\n"
     ]
    }
   ],
   "source": [
    "# add your code here\n",
    "# your algorithm time complexity is:O(n)\n",
    "class TreeNode:\n",
    "    def __init__(self, val=0, left=None, right=None):\n",
    "        self.val = val\n",
    "        self.left = left\n",
    "        self.right = right\n",
    "\n",
    "class Solution:\n",
    "    def recoverTree(self, root: TreeNode) -> None:\n",
    "        self.first = None    # 第一个错误节点\n",
    "        self.second = None   # 第二个错误节点\n",
    "        self.prev = TreeNode(float('-inf'))  # 中序遍历的前驱节点\n",
    "        \n",
    "        def inorder(node):\n",
    "            if not node:\n",
    "                return\n",
    "            # 遍历左子树\n",
    "            inorder(node.left)\n",
    "            \n",
    "            # 检查当前节点\n",
    "            if self.prev.val >= node.val:\n",
    "                if not self.first:\n",
    "                    self.first = self.prev  # 记录第一个错误节点\n",
    "                self.second = node          # 第二个错误节点可能是当前节点\n",
    "            self.prev = node  # 更新前驱\n",
    "            \n",
    "            # 遍历右子树\n",
    "            inorder(node.right)\n",
    "        \n",
    "        inorder(root)  # 执行中序遍历找到错误节点\n",
    "        \n",
    "        # 交换两个错误节点的值\n",
    "        self.first.val, self.second.val = self.second.val, self.first.val\n",
    "\n",
    "def build_tree(nodes):\n",
    "    \"根据层次遍历列表构建二叉树\"\n",
    "    if not nodes:\n",
    "        return None\n",
    "    root = TreeNode(nodes[0])\n",
    "    queue = [root]\n",
    "    index = 1\n",
    "    while queue and index < len(nodes):\n",
    "        current = queue.pop(0)\n",
    "        # 处理左子节点\n",
    "        if nodes[index] is not None:\n",
    "            current.left = TreeNode(nodes[index])\n",
    "            queue.append(current.left)\n",
    "        index += 1\n",
    "        if index >= len(nodes):\n",
    "            break\n",
    "        # 处理右子节点\n",
    "        if nodes[index] is not None:\n",
    "            current.right = TreeNode(nodes[index])\n",
    "            queue.append(current.right)\n",
    "        index += 1\n",
    "    return root\n",
    "\n",
    "def tree_to_list(root):\n",
    "    \"将二叉树转换为层次遍历列表（包含None）\"\n",
    "    if not root:\n",
    "        return []\n",
    "    result = []\n",
    "    queue = [root]\n",
    "    while queue:\n",
    "        node = queue.pop(0)\n",
    "        if node:\n",
    "            result.append(node.val)\n",
    "            queue.append(node.left)\n",
    "            queue.append(node.right)\n",
    "        else:\n",
    "            result.append(None)\n",
    "    # 去除末尾多余的None\n",
    "    while result and result[-1] is None:\n",
    "        result.pop()\n",
    "    return result\n",
    "\n",
    "if __name__ ==\"__main__\":\n",
    "    # 测试用例1\n",
    "    input1 = [1, 3, None, None, 2]\n",
    "    root1 = build_tree(input1)\n",
    "    Solution().recoverTree(root1)\n",
    "    output1 = tree_to_list(root1)\n",
    "    print(output1)  \n",
    "\n",
    "    # 测试用例2\n",
    "    input2 = [3, 1, 4, None, None, 2]\n",
    "    root2 = build_tree(input2)\n",
    "    Solution().recoverTree(root2)\n",
    "    output2 = tree_to_list(root2)\n",
    "    print(output2)  "
   ]
  },
  {
   "cell_type": "markdown",
   "metadata": {},
   "source": [
    "## 问题 9  \n",
    "\n",
    "给你一个二叉树的根节点 root ，树中每个节点都存放有一个 0 到 9 之间的数字。每条从根节点到叶节点的路径都代表一个数字：\n",
    "\n",
    "> 例如，从根节点到叶节点的路径 1 -> 2 -> 3 表示数字 123 。\n",
    "\n",
    "设计一个算法计算从根节点到叶节点生成的所有数字之和 ，分析算法设计思路，计算时间复杂度，并基于python编程实现\n",
    "\n",
    "叶节点:是指没有子节点的节点。\n",
    "\n",
    "e.g.:\n",
    "---\n",
    "1.\n",
    "\n",
    " <div style=\"text-align:center;width:200px;\"> <img alt=\"figure\" src=\"./fig/hw3q10-1.jpg\"> </div>\n",
    "\n",
    " 输入：root = [1,2,3], 输出：25\n",
    "\n",
    "解释：从根到叶子节点路径 1->2 代表数字 12，1->3 代表数字 13，因此和为 12 + 13 = 25 。\n",
    "\n",
    "2.\n",
    "\n",
    " <div style=\"text-align:center;width:200px;\"> <img alt=\"figure\" src=\"./fig/hw3q10-2.jpg\"> </div>\n",
    "\n",
    " 输入：root = [4,9,0,5,1], 输出：1026\n",
    "\n",
    "解释：从根到叶子节点路径 4->9->5 代表数字 495，4->9->1 代表数字 491，4->0 代表数字 40。因此和为 495 + 491 + 40 = 1026 。"
   ]
  },
  {
   "cell_type": "markdown",
   "metadata": {},
   "source": [
    "idea：\n",
    "利用深度优先搜索（DFS）遍历所有根到叶子的路径，将路径上的数字拼接成整数，并累加所有路径的和。\n",
    "\n",
    "1.递归参数：当前节点 node 和当前路径的累积值 current_sum。\n",
    "\n",
    "2.终止条件：当节点是叶子时，返回 current_sum * 10 + node.val。\n",
    "\n",
    "3.递归逻辑：若非叶子节点，则继续遍历左右子树，将更新后的累积值传递给子节点，并返回左右子树结果之和。\n",
    "\n",
    "4.时间复杂度：每个节点仅被访问一次，时间复杂度为 ​O(n)​​（n为节点数量）。"
   ]
  },
  {
   "cell_type": "code",
   "execution_count": 8,
   "metadata": {},
   "outputs": [
    {
     "name": "stdout",
     "output_type": "stream",
     "text": [
      "示例1 输出: 25\n",
      "示例2 输出: 1026\n",
      "单节点测试: 5\n",
      "单边树测试: 123\n"
     ]
    }
   ],
   "source": [
    "# add your code here\n",
    "# your algorithm time complexity is:O(n)\n",
    "class TreeNode:\n",
    "    def __init__(self, val=0, left=None, right=None):\n",
    "        self.val = val\n",
    "        self.left = left\n",
    "        self.right = right\n",
    "\n",
    "def sumNumbers(root):\n",
    "    def dfs(node, current_sum):\n",
    "        if not node:\n",
    "            return 0\n",
    "        total = current_sum * 10 + node.val\n",
    "        if not node.left and not node.right:\n",
    "            return total\n",
    "        return dfs(node.left, total) + dfs(node.right, total)\n",
    "    return dfs(root, 0)\n",
    "\n",
    "\n",
    "if __name__ == \"__main__\":\n",
    "    # 示例1\n",
    "    root1 = TreeNode(1)\n",
    "    root1.left = TreeNode(2)\n",
    "    root1.right = TreeNode(3)\n",
    "    print(\"示例1 输出:\", sumNumbers(root1))  # 25\n",
    "\n",
    "    # 示例2\n",
    "    root2 = TreeNode(4)\n",
    "    root2.left = TreeNode(9)\n",
    "    root2.right = TreeNode(0)\n",
    "    root2.left.left = TreeNode(5)\n",
    "    root2.left.right = TreeNode(1)\n",
    "    print(\"示例2 输出:\", sumNumbers(root2))  # 1026\n",
    "\n",
    "    # 单节点\n",
    "    root3 = TreeNode(5)\n",
    "    print(\"单节点测试:\", sumNumbers(root3))  # 5\n",
    "\n",
    "    # 单边树\n",
    "    root4 = TreeNode(1)\n",
    "    root4.left = TreeNode(2)\n",
    "    root4.left.left = TreeNode(3)\n",
    "    print(\"单边树测试:\", sumNumbers(root4))  # 123"
   ]
  },
  {
   "cell_type": "markdown",
   "metadata": {},
   "source": [
    "## 问题 10  \n",
    "\n",
    "给你一个二叉树的根节点 root ， 检查它是否轴对称。\n",
    "\n",
    "1. 分析算法设计思路，计算时间复杂度，并基于python编程实现\n",
    "2. \\* 设计使用递归和迭代两种方法解决这个问题，计算时间复杂度，并基于python编程实现\n",
    "\n",
    "e.g.:\n",
    "---\n",
    "1.\n",
    "\n",
    " <div style=\"text-align:center;width:200px;\"> <img alt=\"figure\" src=\"./fig/hw3q11-1.png\"> </div>\n",
    "\n",
    " 输入：root = [1,2,2,3,4,4,3]， 输出：true\n",
    "\n",
    "解释：二叉树 [1,2,2,3,4,4,3] 对称。\n",
    "\n",
    "2.\n",
    "\n",
    " <div style=\"text-align:center;width:200px;\"> <img alt=\"figure\" src=\"./fig/hw3q11-2.png\"> </div>\n",
    "\n",
    " 输入：root = [1,2,2,null,3,null,3]， 输出：false"
   ]
  },
  {
   "cell_type": "markdown",
   "metadata": {},
   "source": [
    "idea:\n",
    "采用递归法实现。核心思路是判断两个子树是否满足镜像对称关系：\n",
    "\n",
    "1.两个根节点值必须相等\n",
    "\n",
    "2.左子树的左子树与右子树的右子树镜像对称\n",
    "\n",
    "3.左子树的右子树与右子树的左子树镜像对称\n",
    "从根节点开始，将其左右子树视为两个独立的树，递归比较它们的对称性。\n",
    "\n",
    "4.时间复杂度分析\n",
    "每个节点都会被访问一次，时间复杂度为O(n)，其中 n 为树中节点总数\n",
    "\n",
    "5.空间复杂度取决于递归深度：\n",
    "最坏情况（完全不平衡树）为O(n)\n",
    "最好情况（平衡树）为O(log n)"
   ]
  },
  {
   "cell_type": "code",
   "execution_count": 10,
   "metadata": {},
   "outputs": [
    {
     "name": "stdout",
     "output_type": "stream",
     "text": [
      "True\n",
      "False\n"
     ]
    }
   ],
   "source": [
    "# add your code here\n",
    "# your algorithm time complexity is:O(n)\n",
    "class TreeNode:\n",
    "    def __init__(self, val=0, left=None, right=None):\n",
    "        self.val = val\n",
    "        self.left = left\n",
    "        self.right = right\n",
    "\n",
    "class Solution:\n",
    "    def isSymmetric(self, root: TreeNode) -> bool:\n",
    "        def isMirror(left: TreeNode, right: TreeNode) -> bool:\n",
    "            if not left and not right:  \n",
    "                return True\n",
    "            if not left or not right:  \n",
    "                return False\n",
    "            return (left.val == right.val) and \\\n",
    "                   isMirror(left.left, right.right) and \\\n",
    "                   isMirror(left.right, right.left)\n",
    "        \n",
    "        if not root:\n",
    "            return True \n",
    "        return isMirror(root.left, root.right)\n",
    "\n",
    "def buildTree(lst, index=0):\n",
    "    if index >= len(lst) or lst[index] is None:\n",
    "        return None\n",
    "    node = TreeNode(lst[index])\n",
    "    node.left = buildTree(lst, 2*index + 1)\n",
    "    node.right = buildTree(lst, 2*index + 2)\n",
    "    return node\n",
    "\n",
    "if __name__ == \"__main__\":\n",
    "    sol = Solution()\n",
    "    # 示例1\n",
    "    root1 = buildTree([1,2,2,3,4,4,3])\n",
    "    print(sol.isSymmetric(root1))  \n",
    "    \n",
    "    # 示例2\n",
    "    root2 = buildTree([1,2,2,None,3,None,3])\n",
    "    print(sol.isSymmetric(root2))  "
   ]
  },
  {
   "cell_type": "markdown",
   "metadata": {},
   "source": [
    "## 问题 11  \n",
    "\n",
    "给你一个由 '1'（陆地）和 '0'（水）组成的的二维网格，请你计算网格中岛屿的数量。岛屿总是被水包围，并且每座岛屿只能由水平方向和/或竖直方向上相邻的陆地连接形成。\n",
    "\n",
    "此外，你可以假设该网格的四条边均被水包围。\n",
    "\n",
    "分析算法设计思路，计算时间复杂度，并基于python编程实现\n",
    "\n",
    "e.g.:\n",
    "---\n",
    "1.\n",
    "输入：grid = [\n",
    "\n",
    "    [\"1\",\"1\",\"1\",\"1\",\"0\"],\n",
    "\n",
    "    [\"1\",\"1\",\"0\",\"1\",\"0\"], \n",
    "\n",
    "    [\"1\",\"1\",\"0\",\"0\",\"0\"], \n",
    "\n",
    "    [\"0\",\"0\",\"0\",\"0\",\"0\"]  \n",
    "\n",
    "]\n",
    "\n",
    "输出：1\n",
    "\n",
    "2.\n",
    "输入：grid = [\n",
    "\n",
    "    [\"1\",\"1\",\"0\",\"0\",\"0\"],\n",
    "\n",
    "    [\"1\",\"1\",\"0\",\"0\",\"0\"],\n",
    "\n",
    "    [\"0\",\"0\",\"1\",\"0\",\"0\"],\n",
    "\n",
    "    [\"0\",\"0\",\"0\",\"1\",\"1\"]\n",
    "\n",
    "]\n",
    "\n",
    "输出：3"
   ]
  },
  {
   "cell_type": "markdown",
   "metadata": {},
   "source": [
    "idea(借鉴大模型思路):\n",
    "\n",
    "1.遍历网格：逐个检查每个格子是否为未被访问的陆地（'1'）。\n",
    "\n",
    "2.标记与扩散：发现陆地后，用深度优先搜索（DFS）或广度优先搜索（BFS）标记所有相连的陆地，避免重复计数。\n",
    "\n",
    "3.计数岛屿：每次发现新陆地时，岛屿计数+1。\n",
    "\n",
    "DFS对比BFS：\n",
    "\n",
    "DFS：递归/栈实现，代码简洁，但可能栈溢出。\n",
    "\n",
    "BFS：队列实现，适合大规模数据，避免栈溢出。\n",
    "\n",
    "时间复杂度：O(M×N)，每个格子最多访问一次。"
   ]
  },
  {
   "cell_type": "code",
   "execution_count": 1,
   "metadata": {},
   "outputs": [
    {
     "name": "stdout",
     "output_type": "stream",
     "text": [
      "1\n",
      "3\n"
     ]
    }
   ],
   "source": [
    "# add your code here \n",
    "# your algorithm time complexity is:O(M×N)\n",
    "#DFS\n",
    "def numIslands(grid):\n",
    "    if not grid or len(grid) == 0:\n",
    "        return 0\n",
    "    \n",
    "    rows = len(grid)\n",
    "    cols = len(grid[0])\n",
    "    count = 0\n",
    "    \n",
    "    def dfs(i, j):\n",
    "        if i < 0 or j < 0 or i >= rows or j >= cols or grid[i][j] != '1':\n",
    "            return\n",
    "        grid[i][j] = '0'  # 标记为已访问\n",
    "        dfs(i+1, j)  # 下\n",
    "        dfs(i-1, j)  # 上\n",
    "        dfs(i, j+1)  # 右\n",
    "        dfs(i, j-1)  # 左\n",
    "    \n",
    "    for i in range(rows):\n",
    "        for j in range(cols):\n",
    "            if grid[i][j] == '1':\n",
    "                count += 1\n",
    "                dfs(i, j)  # 淹没整个岛屿\n",
    "    \n",
    "    return count\n",
    "\n",
    "if __name__ == \"__main__\":\n",
    "    # 示例1\n",
    "    grid1 = [\n",
    "        [\"1\",\"1\",\"1\",\"1\",\"0\"],\n",
    "        [\"1\",\"1\",\"0\",\"1\",\"0\"],\n",
    "        [\"1\",\"1\",\"0\",\"0\",\"0\"],\n",
    "        [\"0\",\"0\",\"0\",\"0\",\"0\"]\n",
    "    ]\n",
    "    print(numIslands(grid1))  \n",
    "\n",
    "    # 示例2\n",
    "    grid2 = [\n",
    "        [\"1\",\"1\",\"0\",\"0\",\"0\"],\n",
    "        [\"1\",\"1\",\"0\",\"0\",\"0\"],\n",
    "        [\"0\",\"0\",\"1\",\"0\",\"0\"],\n",
    "        [\"0\",\"0\",\"0\",\"1\",\"1\"]\n",
    "    ]\n",
    "    print(numIslands(grid2))  "
   ]
  },
  {
   "cell_type": "code",
   "execution_count": 2,
   "metadata": {},
   "outputs": [
    {
     "name": "stdout",
     "output_type": "stream",
     "text": [
      "1\n",
      "3\n"
     ]
    }
   ],
   "source": [
    "# add your code here \n",
    "# your algorithm time complexity is:O(M×N)\n",
    "#BFS\n",
    "from collections import deque\n",
    "\n",
    "def numIslands(grid):\n",
    "    if not grid:\n",
    "        return 0\n",
    "    \n",
    "    rows = len(grid)\n",
    "    cols = len(grid[0])\n",
    "    count = 0\n",
    "    \n",
    "    for i in range(rows):\n",
    "        for j in range(cols):\n",
    "            if grid[i][j] == '1':\n",
    "                count += 1\n",
    "                queue = deque([(i, j)])\n",
    "                grid[i][j] = '0'  # 立即标记\n",
    "                while queue:\n",
    "                    x, y = queue.popleft()\n",
    "                    for dx, dy in [(-1,0), (1,0), (0,-1), (0,1)]:\n",
    "                        nx, ny = x+dx, y+dy\n",
    "                        if 0<=nx<rows and 0<=ny<cols and grid[nx][ny]=='1':\n",
    "                            queue.append((nx, ny))\n",
    "                            grid[nx][ny] = '0'  # 入队时立即标记\n",
    "    \n",
    "    return count\n",
    "if __name__ == \"__main__\":\n",
    "    # 示例1\n",
    "    grid1 = [\n",
    "        [\"1\",\"1\",\"1\",\"1\",\"0\"],\n",
    "        [\"1\",\"1\",\"0\",\"1\",\"0\"],\n",
    "        [\"1\",\"1\",\"0\",\"0\",\"0\"],\n",
    "        [\"0\",\"0\",\"0\",\"0\",\"0\"]\n",
    "    ]\n",
    "    print(numIslands(grid1)) \n",
    "    \n",
    "    # 示例2\n",
    "    grid2 = [\n",
    "        [\"1\",\"1\",\"0\",\"0\",\"0\"],\n",
    "        [\"1\",\"1\",\"0\",\"0\",\"0\"],\n",
    "        [\"0\",\"0\",\"1\",\"0\",\"0\"],\n",
    "        [\"0\",\"0\",\"0\",\"1\",\"1\"]\n",
    "    ]\n",
    "    print(numIslands(grid2))  "
   ]
  },
  {
   "cell_type": "code",
   "execution_count": null,
   "metadata": {},
   "outputs": [],
   "source": []
  }
 ],
 "metadata": {
  "kernelspec": {
   "display_name": "Python 3 (ipykernel)",
   "language": "python",
   "name": "python3"
  },
  "language_info": {
   "codemirror_mode": {
    "name": "ipython",
    "version": 3
   },
   "file_extension": ".py",
   "mimetype": "text/x-python",
   "name": "python",
   "nbconvert_exporter": "python",
   "pygments_lexer": "ipython3",
   "version": "3.10.16"
  }
 },
 "nbformat": 4,
 "nbformat_minor": 4
}
